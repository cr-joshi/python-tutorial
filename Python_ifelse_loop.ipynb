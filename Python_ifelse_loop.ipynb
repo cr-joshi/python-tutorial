{
 "cells": [
  {
   "cell_type": "code",
   "execution_count": 2,
   "id": "a6ddddcf",
   "metadata": {},
   "outputs": [
    {
     "name": "stdout",
     "output_type": "stream",
     "text": [
      "Enter number:9\n",
      "Number is odd.\n"
     ]
    }
   ],
   "source": [
    "#Python if else\n",
    "# 1. Check number is either even or odd.\n",
    "num = int(input(\"Enter number:\"))\n",
    "if(num % 2 == 0):\n",
    "    print(\"Number is even.\")\n",
    "else:\n",
    "    print(\"Number is odd.\")"
   ]
  },
  {
   "cell_type": "code",
   "execution_count": 5,
   "id": "c0a86ace",
   "metadata": {},
   "outputs": [
    {
     "name": "stdout",
     "output_type": "stream",
     "text": [
      "Enter number:0\n",
      "Number is zero\n"
     ]
    }
   ],
   "source": [
    "# 2. Check input number is positive, negative or zero.\n",
    "num = int(input(\"Enter number:\"))\n",
    "if num > 0:\n",
    "    print(\"Number is positive.\")\n",
    "elif num < 0:\n",
    "    print(\"Number is negative.\")\n",
    "else:\n",
    "    print(\"Number is zero\")\n",
    "    "
   ]
  },
  {
   "cell_type": "code",
   "execution_count": 8,
   "id": "07eb381b",
   "metadata": {},
   "outputs": [
    {
     "name": "stdout",
     "output_type": "stream",
     "text": [
      "Marks of English:30\n",
      "Marks of nepali:35\n",
      "Marks of maths:36\n",
      "Total marks obtained:  101.0\n",
      "Percentage:  33.666666666666664\n",
      "Non-Grade\n"
     ]
    }
   ],
   "source": [
    "#Print grade of a student\n",
    "eng = float(input(\"Marks of English:\"))\n",
    "nep = float(input(\"Marks of nepali:\"))\n",
    "maths = float(input(\"Marks of maths:\"))\n",
    "total = eng+nep+maths\n",
    "per = total/300*100\n",
    "print(\"Total marks obtained: \",total)\n",
    "print(\"Percentage: \", per)\n",
    "if per>=90:\n",
    "    print(\"You obtained grade A+\")\n",
    "elif per >=80:\n",
    "    print(\"You obtained grade A\")\n",
    "elif per>=70:\n",
    "    print(\"You obtained grade B+\")\n",
    "elif per>=60:\n",
    "    print(\"You obtained grade B\")\n",
    "elif per >=50:\n",
    "    print(\"You obtained grade C+\")\n",
    "elif per >=40:\n",
    "    print(\"You obtained grade C\")\n",
    "else:\n",
    "    print(\"Non-Grade\")\n"
   ]
  },
  {
   "cell_type": "code",
   "execution_count": 24,
   "id": "85095452",
   "metadata": {},
   "outputs": [
    {
     "name": "stdout",
     "output_type": "stream",
     "text": [
      "1 2 3 4 5 6 7 8 9 10 "
     ]
    }
   ],
   "source": [
    "# 3. To print first 10 natural numbers\n",
    "for i in range(1, 11):\n",
    "    print(i, end=\" \")\n"
   ]
  },
  {
   "cell_type": "code",
   "execution_count": 23,
   "id": "b0029263",
   "metadata": {},
   "outputs": [
    {
     "name": "stdout",
     "output_type": "stream",
     "text": [
      "2 4 6 8 10 12 14 16 18 20 "
     ]
    }
   ],
   "source": [
    "# 4. Print even numbers from 2 to 20\n",
    "for i in range(2, 21, 2):\n",
    "    print(i, end=\" \")"
   ]
  },
  {
   "cell_type": "code",
   "execution_count": 27,
   "id": "8a0ca380",
   "metadata": {},
   "outputs": [
    {
     "name": "stdout",
     "output_type": "stream",
     "text": [
      "55\n"
     ]
    }
   ],
   "source": [
    "# 5. Print sum of first 10 natural numbers.\n",
    "sum = 0\n",
    "for i in range(1, 11):\n",
    "    sum=sum+i\n",
    "print(sum)"
   ]
  },
  {
   "cell_type": "code",
   "execution_count": 28,
   "id": "827cbf67",
   "metadata": {},
   "outputs": [
    {
     "name": "stdout",
     "output_type": "stream",
     "text": [
      "Enter number:5\n",
      "Factorial= 120\n"
     ]
    }
   ],
   "source": [
    "# 6. Calculate factorial of input number.\n",
    "fact =1\n",
    "num = int(input(\"Enter number:\"))\n",
    "for i in range(1, 6):\n",
    "    fact = fact*i\n",
    "print(\"Factorial=\", fact)"
   ]
  },
  {
   "cell_type": "code",
   "execution_count": 34,
   "id": "44f157ab",
   "metadata": {},
   "outputs": [
    {
     "name": "stdout",
     "output_type": "stream",
     "text": [
      "Enter number:6\n",
      "6 is Composite.\n"
     ]
    }
   ],
   "source": [
    "# 7. Check input number is either prime or composite.\n",
    "num = int(input(\"Enter number:\"))\n",
    "c=0\n",
    "for i in range(1, num+1):\n",
    "    if num % i ==0:\n",
    "        c=c+1\n",
    "if c==2:\n",
    "    print(num, \"is Prime.\")\n",
    "else:\n",
    "    print(num, \"is Composite.\")\n",
    "    "
   ]
  },
  {
   "cell_type": "code",
   "execution_count": 37,
   "id": "c4f9ee42",
   "metadata": {},
   "outputs": [
    {
     "name": "stdout",
     "output_type": "stream",
     "text": [
      "Enter number:125\n",
      "Sum = 8\n"
     ]
    }
   ],
   "source": [
    "# 8. To find sum of individual digits of given number.\n",
    "num = int(input(\"Enter number:\"))\n",
    "sum = 0\n",
    "while num > 0:\n",
    "    r=num%10\n",
    "    sum=sum+r\n",
    "    num=int(num/10)\n",
    "print(\"Sum =\",sum)"
   ]
  },
  {
   "cell_type": "code",
   "execution_count": 44,
   "id": "9a6e2ae3",
   "metadata": {},
   "outputs": [
    {
     "name": "stdout",
     "output_type": "stream",
     "text": [
      "Enter any string:hello\n",
      "olleh\n"
     ]
    }
   ],
   "source": [
    "# 9.Reverse the input string.\n",
    "str = input(\"Enter any string:\")\n",
    "s=\"\"\n",
    "for ch in str:\n",
    "    s=ch+s\n",
    "print(s)"
   ]
  },
  {
   "cell_type": "code",
   "execution_count": 49,
   "id": "ad73b9f8",
   "metadata": {},
   "outputs": [
    {
     "name": "stdout",
     "output_type": "stream",
     "text": [
      "Enter character:@\n",
      "@ is not alphabet\n"
     ]
    }
   ],
   "source": [
    "# 10. Program to check whether a character is an Alphabet or not\n",
    "char = input(\"Enter character:\")\n",
    "if ((char>='a' and char<='z') or (char>='A' and char<='Z')):\n",
    "    print(char, \"is alphabet\")\n",
    "else:\n",
    "    print(char, \"is not alphabet\")"
   ]
  },
  {
   "cell_type": "code",
   "execution_count": 52,
   "id": "66cf24bb",
   "metadata": {},
   "outputs": [
    {
     "name": "stdout",
     "output_type": "stream",
     "text": [
      "1 2 3 4 5 6 7 8 9 10 "
     ]
    }
   ],
   "source": [
    "# Print First 10 natural number using while loop\n",
    "i=1\n",
    "while (i<=10):\n",
    "    print(i, end=\" \")\n",
    "    i=i+1\n",
    "    "
   ]
  },
  {
   "cell_type": "code",
   "execution_count": null,
   "id": "40ae1e80",
   "metadata": {},
   "outputs": [],
   "source": []
  }
 ],
 "metadata": {
  "kernelspec": {
   "display_name": "Python 3 (ipykernel)",
   "language": "python",
   "name": "python3"
  },
  "language_info": {
   "codemirror_mode": {
    "name": "ipython",
    "version": 3
   },
   "file_extension": ".py",
   "mimetype": "text/x-python",
   "name": "python",
   "nbconvert_exporter": "python",
   "pygments_lexer": "ipython3",
   "version": "3.11.5"
  }
 },
 "nbformat": 4,
 "nbformat_minor": 5
}
