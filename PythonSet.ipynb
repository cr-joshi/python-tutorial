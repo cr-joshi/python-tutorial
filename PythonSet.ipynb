{
 "cells": [
  {
   "cell_type": "code",
   "execution_count": 10,
   "id": "838a0189",
   "metadata": {},
   "outputs": [
    {
     "name": "stdout",
     "output_type": "stream",
     "text": [
      "{2, 4, 5, 6, 7}\n",
      "<class 'set'>\n",
      "1673764644096\n",
      "2\n",
      "4\n",
      "5\n",
      "6\n",
      "7\n",
      "True\n"
     ]
    }
   ],
   "source": [
    "#Python Set is a collection which is Unordered, Uchangeable and do not allow duplicate value\n",
    "s={2, 4, 5,6, 7}\n",
    "print(s)\n",
    "print(type(s))\n",
    "print(id(s))\n",
    "for i in s:\n",
    "    print(i)\n",
    "    \n",
    "print(2 in s)"
   ]
  },
  {
   "cell_type": "code",
   "execution_count": 12,
   "id": "2ca449ab",
   "metadata": {},
   "outputs": [
    {
     "name": "stdout",
     "output_type": "stream",
     "text": [
      "{2, 4, 6, 7, 8}\n",
      "{'cherr', 'kiwi', 'apple', 'mango'}\n"
     ]
    }
   ],
   "source": [
    "#Add item to set\n",
    "s= {2, 4,6,7}\n",
    "s.add(8)\n",
    "print(s)\n",
    "s1 = {\"apple\", \"cherr\", \"mango\"}\n",
    "s1.add(\"kiwi\")\n",
    "print(s1)"
   ]
  },
  {
   "cell_type": "code",
   "execution_count": 13,
   "id": "0fd8af9e",
   "metadata": {},
   "outputs": [
    {
     "name": "stdout",
     "output_type": "stream",
     "text": [
      "{2, 4, 6, 8, 10, 12, 14}\n"
     ]
    }
   ],
   "source": [
    "#update() method to add elements from one set to another.\n",
    "s1={2, 4, 6, 8}\n",
    "s2 = {10, 12, 14}\n",
    "s1.update(s2)\n",
    "print(s1)"
   ]
  },
  {
   "cell_type": "code",
   "execution_count": 16,
   "id": "23e73529",
   "metadata": {},
   "outputs": [
    {
     "name": "stdout",
     "output_type": "stream",
     "text": [
      "{2, 4, 6, 7, 8, 'cherry', 'apple', 'mango'}\n",
      "<class 'set'>\n"
     ]
    }
   ],
   "source": [
    "#Adding list items to set item by using update() method\n",
    "s={\"apple\", \"cherry\", \"mango\"}\n",
    "l=[2, 4, 6, 7, 8]\n",
    "s.update(l)\n",
    "print(s)\n",
    "print(type(s))"
   ]
  },
  {
   "cell_type": "code",
   "execution_count": 24,
   "id": "87b8f1d9",
   "metadata": {},
   "outputs": [
    {
     "name": "stdout",
     "output_type": "stream",
     "text": [
      "set()\n"
     ]
    }
   ],
   "source": [
    "#Remove set Item\n",
    "s={\"apple\", \"cherry\", \"mango\", 2, 100, 4}\n",
    "s.remove(2)\n",
    "s.pop()\n",
    "s.discard(2)\n",
    "s.discard(\"mango\")\n",
    "s.clear()\n",
    "print(s)"
   ]
  },
  {
   "cell_type": "code",
   "execution_count": 38,
   "id": "fad8b079",
   "metadata": {},
   "outputs": [
    {
     "name": "stdout",
     "output_type": "stream",
     "text": [
      "{1, 2, 3, 4, 5, 6, 7, 8, 10}\n",
      "{1, 10, 6}\n",
      "{2, 3, 4, 5, 7, 8}\n",
      "{1, 2, 4, 6, 8, 10}\n"
     ]
    }
   ],
   "source": [
    "# Join Set\n",
    "# 1. union() =>returns a new set\n",
    "# 2. update()\n",
    "# 3. intersection_update()\n",
    "# 4. intersection() => return a new set\n",
    "# 5. symmetric_difference_update()\n",
    "# 6. symmetric_difference()\n",
    "s1={1,2, 4,6, 8,10}\n",
    "s2={1, 3, 5, 6,7, 10}\n",
    "#s1.update(s2)\n",
    "s=s1.union(s2)\n",
    "print(s3)\n",
    "# s1.intersection_update(s2)\n",
    "# print(s1)\n",
    "s4=s1.intersection(s2) #return new set\n",
    "print(s4)\n",
    "s1.symmetric_difference_update(s2)\n",
    "print(s1)\n",
    "\n",
    "s5=s1.symmetric_difference(s2) #return new set\n",
    "print(s5)"
   ]
  },
  {
   "cell_type": "code",
   "execution_count": null,
   "id": "77f05450",
   "metadata": {},
   "outputs": [],
   "source": []
  }
 ],
 "metadata": {
  "kernelspec": {
   "display_name": "Python 3 (ipykernel)",
   "language": "python",
   "name": "python3"
  },
  "language_info": {
   "codemirror_mode": {
    "name": "ipython",
    "version": 3
   },
   "file_extension": ".py",
   "mimetype": "text/x-python",
   "name": "python",
   "nbconvert_exporter": "python",
   "pygments_lexer": "ipython3",
   "version": "3.11.5"
  }
 },
 "nbformat": 4,
 "nbformat_minor": 5
}
