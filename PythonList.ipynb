{
 "cells": [
  {
   "cell_type": "code",
   "execution_count": 2,
   "id": "0ad1068e",
   "metadata": {},
   "outputs": [
    {
     "name": "stdout",
     "output_type": "stream",
     "text": [
      "['bmw', 'Tesla', 'Ford', 'bmw']\n",
      "bmw\n",
      "Tesla\n",
      "Ford\n",
      "bmw\n"
     ]
    }
   ],
   "source": [
    "#List items are Changeable, Orderd and Allows duplicate values\n",
    "myList = [\"bmw\", \"Tesla\", \"Ford\", \"bmw\"]\n",
    "print(myList)\n",
    "for x in myList:\n",
    "    print(x)"
   ]
  },
  {
   "cell_type": "code",
   "execution_count": 5,
   "id": "5efd2874",
   "metadata": {},
   "outputs": [
    {
     "name": "stdout",
     "output_type": "stream",
     "text": [
      "['hello', 'Good', 100, 150.55, 'evening']\n",
      "5\n",
      "<class 'list'>\n"
     ]
    }
   ],
   "source": [
    "#Creating List using constructor\n",
    "mylist = list((\"hello\", \"Good\", 100, 150.55, \"evening\"))\n",
    "print(mylist)\n",
    "print(len(mylist))\n",
    "print(type(mylist))\n"
   ]
  },
  {
   "cell_type": "code",
   "execution_count": 19,
   "id": "c3fd2df8",
   "metadata": {},
   "outputs": [
    {
     "name": "stdout",
     "output_type": "stream",
     "text": [
      "['apple', 'banana', 'mango', 'orange']\n",
      "orange\n",
      "['apple', 'banana', 'mango', 'orange']\n",
      "['apple', 'banana', 'mango', 'orange']\n",
      "['mango', 'orange']\n"
     ]
    },
    {
     "ename": "TypeError",
     "evalue": "list indices must be integers or slices, not tuple",
     "output_type": "error",
     "traceback": [
      "\u001b[1;31m---------------------------------------------------------------------------\u001b[0m",
      "\u001b[1;31mTypeError\u001b[0m                                 Traceback (most recent call last)",
      "Cell \u001b[1;32mIn[19], line 8\u001b[0m\n\u001b[0;32m      6\u001b[0m \u001b[38;5;28mprint\u001b[39m(fruit[:\u001b[38;5;241m4\u001b[39m])\n\u001b[0;32m      7\u001b[0m \u001b[38;5;28mprint\u001b[39m(fruit[\u001b[38;5;241m2\u001b[39m:\u001b[38;5;241m4\u001b[39m])\n\u001b[1;32m----> 8\u001b[0m \u001b[38;5;28mprint\u001b[39m(fruit[\u001b[38;5;241m-\u001b[39m\u001b[38;5;241m4\u001b[39m, \u001b[38;5;241m-\u001b[39m\u001b[38;5;241m2\u001b[39m])\n",
      "\u001b[1;31mTypeError\u001b[0m: list indices must be integers or slices, not tuple"
     ]
    }
   ],
   "source": [
    "#Accessing list items\n",
    "fruit = [\"apple\", \"banana\", \"mango\", \"orange\"]\n",
    "print(fruit)\n",
    "print(fruit[3])\n",
    "print(fruit[0:])\n",
    "print(fruit[:4])\n",
    "print(fruit[2:4])\n",
    "print(fruit[-4, -2])"
   ]
  },
  {
   "cell_type": "code",
   "execution_count": 21,
   "id": "5a447ee6",
   "metadata": {},
   "outputs": [
    {
     "name": "stdout",
     "output_type": "stream",
     "text": [
      "True\n",
      "Yes!\n"
     ]
    }
   ],
   "source": [
    "fruit = [\"apple\", \"banana\", \"mango\", \"orange\"]\n",
    "print(\"apple\" in fruit)\n",
    "if \"apple\" in fruit:\n",
    "    print(\"Yes!\")"
   ]
  },
  {
   "cell_type": "code",
   "execution_count": 29,
   "id": "236a44a7",
   "metadata": {},
   "outputs": [
    {
     "name": "stdout",
     "output_type": "stream",
     "text": [
      "['apple', 'banana', 'mango']\n",
      "['apple', 'banana', 'mango', 'cherry']\n",
      "['apple', 'banana', 'mango', 'kiwi']\n",
      "['apple', 'banana', 'mango', 'kiwi', 'watermelon']\n",
      "['apple', 'banana', 'mango', 'cucumber', 'kiwi', 'watermelon']\n",
      "['apple', 'banana', 'mango', 'strawberry', 'kiwi', 'watermelon']\n",
      "['10', '20', '30', 'strawberry', 'kiwi', 'watermelon']\n"
     ]
    }
   ],
   "source": [
    "#Python Change List items\n",
    "fruit = [\"apple\", \"banana\", \"mango\"]\n",
    "print(fruit)\n",
    "fruit.insert(3, \"cherry\")\n",
    "print(fruit)\n",
    "fruit[3]=\"kiwi\"\n",
    "print(fruit)\n",
    "fruit.insert(4, \"watermelon\")\n",
    "print(fruit)\n",
    "fruit.insert(3, \"cucumber\")\n",
    "print(fruit)\n",
    "fruit[3]=\"strawberry\"\n",
    "print(fruit)\n",
    "fruit[0:3]=[\"10\", \"20\", \"30\"]\n",
    "print(fruit)"
   ]
  },
  {
   "cell_type": "code",
   "execution_count": 4,
   "id": "39ce517a",
   "metadata": {},
   "outputs": [
    {
     "name": "stdout",
     "output_type": "stream",
     "text": [
      "['apple', 'mango', 'cherry']\n",
      "['apple', 'mango', 'cherry', 'kiwi']\n",
      "['apple', 'orange', 'mango', 'cherry', 'kiwi']\n",
      "['apple', 'orange', 'mango', 'cherry', 'kiwi', 'watermelon', 'grapes']\n"
     ]
    }
   ],
   "source": [
    "#Add List items\n",
    "# 1. append ()\n",
    "# 2. insert()\n",
    "# 3. extend() => Add any iterable objects\n",
    "L = [\"apple\", \"mango\", \"cherry\"]\n",
    "print(L)\n",
    "L.append(\"kiwi\")\n",
    "print(L)\n",
    "L.insert(1, \"orange\")\n",
    "print(L)\n",
    "L1=[\"watermelon\", \"grapes\"]\n",
    "L.extend(L1)\n",
    "print(L)"
   ]
  },
  {
   "cell_type": "code",
   "execution_count": 16,
   "id": "607335a0",
   "metadata": {},
   "outputs": [
    {
     "name": "stdout",
     "output_type": "stream",
     "text": [
      "['apple', 'mango', 'cherry', 100]\n",
      "[]\n"
     ]
    }
   ],
   "source": [
    "#Remove list items\n",
    "# 1. remove() => Remove specific elements from the list.\n",
    "# 2. pop(index) => Remove specific elemts using index. (if index is not given then it removes last elements from list)\n",
    "# 3. del(index) => remove specified element from given index otherwise delete the entire list.\n",
    "# 4. clear() => Empeties the list.\n",
    "L=['apple', 'mango', 'cherry', 100]\n",
    "print(L)\n",
    "#L.remove(\"mango\")\n",
    "#L.pop(2)\n",
    "#L.pop()\n",
    "#del L[0]\n",
    "#del L\n",
    "L.clear()\n",
    "print(L)"
   ]
  },
  {
   "cell_type": "code",
   "execution_count": 21,
   "id": "f68cc33b",
   "metadata": {},
   "outputs": [
    {
     "name": "stdout",
     "output_type": "stream",
     "text": [
      "apple\n",
      "mango\n",
      "cherry\n",
      "100\n",
      "\n",
      "\n",
      "apple\n",
      "mango\n",
      "cherry\n",
      "100\n"
     ]
    }
   ],
   "source": [
    "# Loop through List\n",
    "# for in loop\n",
    "L = ['apple', 'mango', 'cherry', 100]\n",
    "for x in L:\n",
    "    print(x)\n",
    "print(\"\\n\")    \n",
    "# Loop through the index number (we use here range() and len() function)\n",
    "for y in range(len(L)):\n",
    "    print(L[y])"
   ]
  },
  {
   "cell_type": "code",
   "execution_count": 24,
   "id": "3a0c6ff3",
   "metadata": {},
   "outputs": [
    {
     "name": "stdout",
     "output_type": "stream",
     "text": [
      "apple\n",
      "mango\n",
      "cherry\n",
      "100\n"
     ]
    },
    {
     "data": {
      "text/plain": [
       "[None, None, None, None]"
      ]
     },
     "execution_count": 24,
     "metadata": {},
     "output_type": "execute_result"
    }
   ],
   "source": [
    "# Looping using list comperhension\n",
    "L = ['apple', 'mango', 'cherry', 100]\n",
    "[print(x) for x in L]"
   ]
  },
  {
   "cell_type": "code",
   "execution_count": 45,
   "id": "718341dc",
   "metadata": {},
   "outputs": [
    {
     "name": "stdout",
     "output_type": "stream",
     "text": [
      "['apple', 'cherry', 'Mango']\n",
      "[25, 12, 10, 8, 2]\n"
     ]
    }
   ],
   "source": [
    "# Sort List\n",
    "L = ['apple', 'Mango', 'cherry']\n",
    "L.sort(key = str.lower)\n",
    "print(L)\n",
    "L1 = [25, 12, 2, 10, 8]\n",
    "L1.sort(reverse = True)\n",
    "print(L1)"
   ]
  },
  {
   "cell_type": "code",
   "execution_count": 47,
   "id": "41890808",
   "metadata": {},
   "outputs": [
    {
     "name": "stdout",
     "output_type": "stream",
     "text": [
      "['apple', 'Mango', 'cherry']\n"
     ]
    }
   ],
   "source": [
    "#Copy List\n",
    "# 1. copy()\n",
    "# 2. list()\n",
    "L = ['apple', 'Mango', 'cherry']\n",
    "#copyList = L.copy()\n",
    "#print(copyList)\n",
    "copyList = list(L) #list() method takes list as an argument\n",
    "print(copyList)"
   ]
  },
  {
   "cell_type": "code",
   "execution_count": 6,
   "id": "ef713cf3",
   "metadata": {},
   "outputs": [
    {
     "name": "stdout",
     "output_type": "stream",
     "text": [
      "['apple', 'Mango', 'cherry', 2, 4, 6, 7]\n"
     ]
    }
   ],
   "source": [
    "# Join List\n",
    "# 1. concatenation (by using \"+\" operator)\n",
    "# 2. append() => appendinf all items one by one elements (using for loop)\n",
    "# 3. extend()\n",
    "L1 = ['apple', 'Mango', 'cherry']\n",
    "L2 = [2, 4, 6, 7]\n",
    "# newList = L1 + L2\n",
    "# print(newList)\n",
    "\n",
    "# for x in L2:\n",
    "#     L1.append(x)\n",
    "    \n",
    "# print(L1)\n",
    "\n",
    "L1.extend(L2)\n",
    "print(L1)"
   ]
  },
  {
   "cell_type": "code",
   "execution_count": null,
   "id": "76d02778",
   "metadata": {},
   "outputs": [],
   "source": [
    "# List Operation\n",
    "# 1. Accesssing list items\n",
    "# 2. Changing list items\n",
    "# 3. Adding List items\n",
    "# 4. Removing list items\n",
    "# 5. Looping on list items\n",
    "# 6. Sorting list items\n",
    "# 7. Copying list items\n",
    "# 8. Join list items"
   ]
  },
  {
   "cell_type": "code",
   "execution_count": 25,
   "id": "4f8dae9f",
   "metadata": {},
   "outputs": [
    {
     "name": "stdout",
     "output_type": "stream",
     "text": [
      "3\n"
     ]
    }
   ],
   "source": [
    "list = [1, 2, 4, 5, 6, 2, 4, 4]\n",
    "c = list.count(4)\n",
    "print(c)"
   ]
  },
  {
   "cell_type": "code",
   "execution_count": 33,
   "id": "8398b934",
   "metadata": {},
   "outputs": [
    {
     "name": "stdout",
     "output_type": "stream",
     "text": [
      "['mango', 'cherry', 'mango', 'Apple']\n"
     ]
    }
   ],
   "source": [
    "fruits = [\"apple\", \"cherry\", \"mango\", \"Apple\"]\n",
    "fruits[0]=\"mango\"\n",
    "print(fruits)"
   ]
  },
  {
   "cell_type": "code",
   "execution_count": null,
   "id": "bca38714",
   "metadata": {},
   "outputs": [],
   "source": []
  }
 ],
 "metadata": {
  "kernelspec": {
   "display_name": "Python 3 (ipykernel)",
   "language": "python",
   "name": "python3"
  },
  "language_info": {
   "codemirror_mode": {
    "name": "ipython",
    "version": 3
   },
   "file_extension": ".py",
   "mimetype": "text/x-python",
   "name": "python",
   "nbconvert_exporter": "python",
   "pygments_lexer": "ipython3",
   "version": "3.11.5"
  }
 },
 "nbformat": 4,
 "nbformat_minor": 5
}
