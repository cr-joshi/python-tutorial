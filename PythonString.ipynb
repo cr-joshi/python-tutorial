{
 "cells": [
  {
   "cell_type": "code",
   "execution_count": 1,
   "id": "a77957cb",
   "metadata": {},
   "outputs": [
    {
     "name": "stdout",
     "output_type": "stream",
     "text": [
      "Hello\n"
     ]
    }
   ],
   "source": [
    "#Python String\n",
    "str= \"Hello\"\n",
    "print(str)"
   ]
  },
  {
   "cell_type": "code",
   "execution_count": 3,
   "id": "309dd9e3",
   "metadata": {},
   "outputs": [
    {
     "name": "stdout",
     "output_type": "stream",
     "text": [
      "Python multiline string\n",
      "Tutorial for beginners\n"
     ]
    }
   ],
   "source": [
    "str = \"\"\"Python multiline string\n",
    "Tutorial for beginners\"\"\"\n",
    "print(str)"
   ]
  },
  {
   "cell_type": "code",
   "execution_count": 4,
   "id": "037a9a83",
   "metadata": {},
   "outputs": [
    {
     "name": "stdout",
     "output_type": "stream",
     "text": [
      "Python multiline string\n",
      "Tutorial for beginners\n"
     ]
    }
   ],
   "source": [
    "str = '''Python multiline string\n",
    "Tutorial for beginners'''\n",
    "print(str)"
   ]
  },
  {
   "cell_type": "code",
   "execution_count": 15,
   "id": "8a37e0eb",
   "metadata": {},
   "outputs": [
    {
     "name": "stdout",
     "output_type": "stream",
     "text": [
      "12\n",
      " \n",
      "<class 'str'>\n",
      "H\n",
      "e\n",
      "l\n",
      "l\n",
      "o\n",
      " \n",
      "P\n",
      "y\n",
      "t\n",
      "h\n",
      "o\n",
      "n\n"
     ]
    }
   ],
   "source": [
    "str = \"Hello Python\"\n",
    "print(len(str))\n",
    "print(str[5])\n",
    "print(type(str))\n",
    "for x in str:\n",
    "    print(x)"
   ]
  },
  {
   "cell_type": "code",
   "execution_count": 22,
   "id": "69f88220",
   "metadata": {},
   "outputs": [
    {
     "name": "stdout",
     "output_type": "stream",
     "text": [
      "yes, best is present!\n"
     ]
    }
   ],
   "source": [
    "#Check String\n",
    "txt = \"The best things in life is to learn python!\"\n",
    "if \"best\" in txt:\n",
    "    print(\"yes, best is present!\")"
   ]
  },
  {
   "cell_type": "code",
   "execution_count": 27,
   "id": "c811d632",
   "metadata": {},
   "outputs": [
    {
     "name": "stdout",
     "output_type": "stream",
     "text": [
      "False\n"
     ]
    }
   ],
   "source": [
    "txt = \"The best things in life is to learn python!\"\n",
    "print(\"best\"  not in txt)"
   ]
  },
  {
   "cell_type": "code",
   "execution_count": 28,
   "id": "95cc7988",
   "metadata": {},
   "outputs": [
    {
     "name": "stdout",
     "output_type": "stream",
     "text": [
      "Yes, hard is not oresent.\n"
     ]
    }
   ],
   "source": [
    "txt = \"The best things in life is to learn python!\"\n",
    "if \"hard\" not in txt:\n",
    "    print(\"Yes, hard is not present.\")"
   ]
  },
  {
   "cell_type": "code",
   "execution_count": 35,
   "id": "8c1f1175",
   "metadata": {},
   "outputs": [
    {
     "name": "stdout",
     "output_type": "stream",
     "text": [
      "Hello\n",
      "Hello\n",
      "Hello\n",
      "Hell\n"
     ]
    }
   ],
   "source": [
    "#Slicing String\n",
    "txt=\"Hello\"\n",
    "print(txt[0:5])\n",
    "print(txt[0:])\n",
    "print(txt[:5])\n",
    "print(txt[-5:-1])"
   ]
  },
  {
   "cell_type": "code",
   "execution_count": 36,
   "id": "a800b320",
   "metadata": {},
   "outputs": [
    {
     "name": "stdout",
     "output_type": "stream",
     "text": [
      "HELLO\n"
     ]
    }
   ],
   "source": [
    "#Modify String\n",
    "txt = \"hello\"\n",
    "print(txt.upper())"
   ]
  },
  {
   "cell_type": "code",
   "execution_count": 37,
   "id": "c5c58860",
   "metadata": {},
   "outputs": [
    {
     "name": "stdout",
     "output_type": "stream",
     "text": [
      "hello\n"
     ]
    }
   ],
   "source": [
    "txt = \"HELLO\"\n",
    "print(txt.lower())"
   ]
  },
  {
   "cell_type": "code",
   "execution_count": 39,
   "id": "4241f174",
   "metadata": {},
   "outputs": [
    {
     "name": "stdout",
     "output_type": "stream",
     "text": [
      "Hello Python!\n",
      "Hello learning python is the best things of the life!\n"
     ]
    }
   ],
   "source": [
    "#strip() to remove white spaces from start and end\n",
    "txt = \"  Hello Python!  \"\n",
    "print(txt.strip())\n",
    "txt1 = \"   Hello learning python is the best things of the life!    \"\n",
    "print(txt1.strip())"
   ]
  },
  {
   "cell_type": "code",
   "execution_count": 40,
   "id": "5adf90b7",
   "metadata": {},
   "outputs": [
    {
     "name": "stdout",
     "output_type": "stream",
     "text": [
      "Good Morning\n"
     ]
    }
   ],
   "source": [
    "#replace() method replaces string with another\n",
    "txt = \"Good Evening\"\n",
    "print(txt.replace(\"Evening\", \"Morning\"))"
   ]
  },
  {
   "cell_type": "code",
   "execution_count": 41,
   "id": "c72a66ef",
   "metadata": {},
   "outputs": [
    {
     "name": "stdout",
     "output_type": "stream",
     "text": [
      "['Hello', ' World!']\n"
     ]
    }
   ],
   "source": [
    "#split() method splits string into substrings if it finds the seperator of instances.\n",
    "txt = \"Hello, World!\"\n",
    "print(txt.split(\",\"))"
   ]
  },
  {
   "cell_type": "code",
   "execution_count": 43,
   "id": "83033a39",
   "metadata": {},
   "outputs": [
    {
     "name": "stdout",
     "output_type": "stream",
     "text": [
      "Hello Kathmandu\n"
     ]
    }
   ],
   "source": [
    "#String concatination\n",
    "txt1= \"Hello\"\n",
    "txt2=\"Kathmandu\"\n",
    "print(txt1 + \" \" + txt2)"
   ]
  },
  {
   "cell_type": "code",
   "execution_count": 53,
   "id": "ac5940e6",
   "metadata": {},
   "outputs": [
    {
     "name": "stdout",
     "output_type": "stream",
     "text": [
      "I bought 1 phones and 2 laptop.\n"
     ]
    }
   ],
   "source": [
    "#formats() method combines string and numbers.\n",
    "txt = \"I bought {1} phones and {0} laptop.\"\n",
    "laptop = 1\n",
    "phone = 2\n",
    "print(txt.format(phone, laptop))"
   ]
  },
  {
   "cell_type": "code",
   "execution_count": 56,
   "id": "22f7949a",
   "metadata": {},
   "outputs": [
    {
     "name": "stdout",
     "output_type": "stream",
     "text": [
      "Learning \"Python\" is the best choice!\n"
     ]
    }
   ],
   "source": [
    "#Escape character (Escape characte is a backslash '\\' followed by the character we want to  insert)\n",
    "txt = \"Learning \\\"Python\\\" is the best choice!\"\n",
    "print(txt)"
   ]
  },
  {
   "cell_type": "code",
   "execution_count": 1,
   "id": "9b313f3a",
   "metadata": {},
   "outputs": [
    {
     "name": "stdout",
     "output_type": "stream",
     "text": [
      "5\n"
     ]
    }
   ],
   "source": [
    "txt = \"Hello\"\n",
    "print(len(txt))"
   ]
  },
  {
   "cell_type": "code",
   "execution_count": 2,
   "id": "5e97b021",
   "metadata": {},
   "outputs": [
    {
     "name": "stdout",
     "output_type": "stream",
     "text": [
      "H\n"
     ]
    }
   ],
   "source": [
    "txt = \"Hello\"\n",
    "print(txt[0])"
   ]
  },
  {
   "cell_type": "code",
   "execution_count": 4,
   "id": "ba6c9a91",
   "metadata": {},
   "outputs": [
    {
     "name": "stdout",
     "output_type": "stream",
     "text": [
      "K\n",
      "a\n",
      "t\n",
      "h\n",
      "m\n",
      "a\n",
      "n\n",
      "d\n",
      "u\n"
     ]
    }
   ],
   "source": [
    "txt = \"Kathmandu\"\n",
    "for x in txt:\n",
    "    print(x)\n",
    "    "
   ]
  },
  {
   "cell_type": "code",
   "execution_count": 7,
   "id": "3c9a8d91",
   "metadata": {},
   "outputs": [
    {
     "name": "stdout",
     "output_type": "stream",
     "text": [
      "Hello\n"
     ]
    }
   ],
   "source": [
    "txt = \"Hello world\"\n",
    "print(txt[:5])"
   ]
  },
  {
   "cell_type": "code",
   "execution_count": 18,
   "id": "fe46bcf6",
   "metadata": {},
   "outputs": [
    {
     "name": "stdout",
     "output_type": "stream",
     "text": [
      "['Hello', ' world!']\n"
     ]
    }
   ],
   "source": [
    "txt =\"Hello, world!\"\n",
    "print(txt.split(\",\"))"
   ]
  },
  {
   "cell_type": "code",
   "execution_count": 20,
   "id": "4e368a78",
   "metadata": {},
   "outputs": [
    {
     "name": "stdout",
     "output_type": "stream",
     "text": [
      "Hello Class\n"
     ]
    }
   ],
   "source": [
    "txt = \"Hello World\"\n",
    "print(txt.replace(\"World\", \"Class\"))"
   ]
  },
  {
   "cell_type": "code",
   "execution_count": 21,
   "id": "176192ec",
   "metadata": {},
   "outputs": [
    {
     "name": "stdout",
     "output_type": "stream",
     "text": [
      "Hello World!\n"
     ]
    }
   ],
   "source": [
    "txt=\"  Hello World! \"\n",
    "print(txt.strip())"
   ]
  },
  {
   "cell_type": "code",
   "execution_count": 22,
   "id": "be3cfe4a",
   "metadata": {},
   "outputs": [
    {
     "name": "stdout",
     "output_type": "stream",
     "text": [
      "Learning \"Python\" is fun!\n"
     ]
    }
   ],
   "source": [
    "str = \"Learning \\\"Python\\\" is fun!\"\n",
    "print(str)"
   ]
  },
  {
   "cell_type": "code",
   "execution_count": 29,
   "id": "c782cc40",
   "metadata": {},
   "outputs": [
    {
     "name": "stdout",
     "output_type": "stream",
     "text": [
      "dlroW olleH\n"
     ]
    }
   ],
   "source": [
    "txt = \"Hello World\"\n",
    "print(txt[-1:-12:-1])"
   ]
  },
  {
   "cell_type": "code",
   "execution_count": null,
   "id": "f4423e36",
   "metadata": {},
   "outputs": [],
   "source": []
  }
 ],
 "metadata": {
  "kernelspec": {
   "display_name": "Python 3 (ipykernel)",
   "language": "python",
   "name": "python3"
  },
  "language_info": {
   "codemirror_mode": {
    "name": "ipython",
    "version": 3
   },
   "file_extension": ".py",
   "mimetype": "text/x-python",
   "name": "python",
   "nbconvert_exporter": "python",
   "pygments_lexer": "ipython3",
   "version": "3.11.5"
  }
 },
 "nbformat": 4,
 "nbformat_minor": 5
}
