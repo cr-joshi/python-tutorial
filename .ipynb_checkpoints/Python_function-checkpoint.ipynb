{
 "cells": [
  {
   "cell_type": "code",
   "execution_count": 2,
   "id": "ba9085b5",
   "metadata": {},
   "outputs": [
    {
     "name": "stdout",
     "output_type": "stream",
     "text": [
      "Hello from function.\n"
     ]
    }
   ],
   "source": [
    "#Creating Function\n",
    "def myFun():\n",
    "    print(\"Hello from function.\")\n",
    "myFun()"
   ]
  },
  {
   "cell_type": "code",
   "execution_count": 7,
   "id": "8fb7934e",
   "metadata": {},
   "outputs": [
    {
     "name": "stdout",
     "output_type": "stream",
     "text": [
      "Good Morning\n",
      "Good Afternoon\n",
      "Good Evening\n"
     ]
    }
   ],
   "source": [
    "#Passing argument to function\n",
    "def fun1(greeting):\n",
    "    print(\"Good\" + \" \"+ greeting)\n",
    "    \n",
    "fun1(\"Morning\")\n",
    "fun1(\"Afternoon\")\n",
    "fun1(\"Evening\")"
   ]
  },
  {
   "cell_type": "code",
   "execution_count": 8,
   "id": "0b122d78",
   "metadata": {},
   "outputs": [
    {
     "name": "stdout",
     "output_type": "stream",
     "text": [
      "John Smith\n"
     ]
    }
   ],
   "source": [
    "def fun(fname, lname):#fname and lname are the parameter (function defination)\n",
    "    print(fname + \" \" + lname)\n",
    "    \n",
    "fun(\"John\", \"Smith\") #John and Smith are the arguments (function call)"
   ]
  },
  {
   "cell_type": "code",
   "execution_count": 13,
   "id": "da7a9ab4",
   "metadata": {},
   "outputs": [
    {
     "name": "stdout",
     "output_type": "stream",
     "text": [
      "The youngest child is Ben\n"
     ]
    }
   ],
   "source": [
    "#Arbitrary Arguments, *args\n",
    "# If number of arguments is unknown add a * before the parameter name.\n",
    "def fun(*kids):\n",
    "    print(\"The youngest child is\", kids[2])\n",
    "    \n",
    "fun(\"John\", \"Jesse\", \"Ben\")"
   ]
  },
  {
   "cell_type": "code",
   "execution_count": 5,
   "id": "6a00d7ff",
   "metadata": {},
   "outputs": [
    {
     "name": "stdout",
     "output_type": "stream",
     "text": [
      "The latest car is  Tesla\n"
     ]
    }
   ],
   "source": [
    "#Keyword Arguments (Arguments can be passed as key=value synatx)\n",
    "def fun(car2, car3, car1):\n",
    "    print(\"The latest car is \", car3)\n",
    "    \n",
    "fun(car1=\"Volvo\",car2=\"BMW\", car3=\"Tesla\")"
   ]
  },
  {
   "cell_type": "code",
   "execution_count": 15,
   "id": "3d79d3fc",
   "metadata": {},
   "outputs": [
    {
     "name": "stdout",
     "output_type": "stream",
     "text": [
      "The latest EV car is Tesla\n"
     ]
    }
   ],
   "source": [
    "#Arbitrary keyword Arguments, **kwargs\n",
    "def fun(**car):\n",
    "    print(\"The latest EV car is\", car[\"brand\"])\n",
    "    \n",
    "fun(brand=\"Tesla\", model=\"Z-S\", color=\"black\", year=2015)"
   ]
  },
  {
   "cell_type": "code",
   "execution_count": 17,
   "id": "fa5e64bd",
   "metadata": {},
   "outputs": [
    {
     "name": "stdout",
     "output_type": "stream",
     "text": [
      "I live in Nepal\n",
      "I live in USA\n",
      "I live in Australia\n"
     ]
    }
   ],
   "source": [
    "#Passing default parameter value\n",
    "def fun(country=\"Nepal\"):\n",
    "    print(\"I live in \"+ country)\n",
    "fun()\n",
    "fun(\"USA\")\n",
    "fun(\"Australia\")"
   ]
  },
  {
   "cell_type": "code",
   "execution_count": 18,
   "id": "9959933a",
   "metadata": {},
   "outputs": [
    {
     "data": {
      "text/plain": [
       "20"
      ]
     },
     "execution_count": 18,
     "metadata": {},
     "output_type": "execute_result"
    }
   ],
   "source": [
    "#Return Values =>Let a function return a value.\n",
    "def fun(x, y):\n",
    "    return x*y\n",
    "\n",
    "fun(5, 4)"
   ]
  },
  {
   "cell_type": "code",
   "execution_count": 21,
   "id": "9c652d50",
   "metadata": {},
   "outputs": [
    {
     "name": "stdout",
     "output_type": "stream",
     "text": [
      "apple\n",
      "cherry\n",
      "mango\n",
      "kiwi\n"
     ]
    }
   ],
   "source": [
    "#Passing list as an argument\n",
    "def fun(food):\n",
    "    for x in food:\n",
    "        print(x)\n",
    "        \n",
    "fruits=[\"apple\", \"cherry\",\"mango\", \"kiwi\"]\n",
    "\n",
    "fun(fruits)"
   ]
  },
  {
   "cell_type": "code",
   "execution_count": 26,
   "id": "3022a152",
   "metadata": {},
   "outputs": [
    {
     "name": "stdout",
     "output_type": "stream",
     "text": [
      "Sum of first 10 natural number using recursion: 55\n"
     ]
    }
   ],
   "source": [
    "#Recursion\n",
    "#Print sum of first 10 natural numbers\n",
    "def rec_sum(n):\n",
    "    if(n<=0):\n",
    "        return n\n",
    "    else:\n",
    "        return n + rec_sum(n-1)\n",
    "    \n",
    "num = 10\n",
    "print(\"Sum of first 10 natural number using recursion:\", rec_sum(num))"
   ]
  },
  {
   "cell_type": "code",
   "execution_count": 34,
   "id": "5662d154",
   "metadata": {},
   "outputs": [
    {
     "name": "stdout",
     "output_type": "stream",
     "text": [
      "230\n"
     ]
    }
   ],
   "source": [
    "#Lambda Function\n",
    "# Lambda function is a small anonymous function.\n",
    "#syntax\n",
    "# lambda arguments : expression\n",
    "a = lambda x,y,z: (x*y)+z\n",
    "print(a(10,20,30))"
   ]
  },
  {
   "cell_type": "code",
   "execution_count": 36,
   "id": "2dc4a003",
   "metadata": {},
   "outputs": [
    {
     "name": "stdout",
     "output_type": "stream",
     "text": [
      "[1, 5, 15, 13]\n"
     ]
    }
   ],
   "source": [
    "#Filter out all odd numbers from list using filter() and lambda function\n",
    "lis=[1, 5, 6, 8, 10, 15, 13]\n",
    "odd_list = list(filter(lambda x: (x%2!=0),  lis))\n",
    "print(odd_list)"
   ]
  },
  {
   "cell_type": "code",
   "execution_count": 37,
   "id": "93bbcc2c",
   "metadata": {},
   "outputs": [
    {
     "name": "stdout",
     "output_type": "stream",
     "text": [
      "[2, 4, 6, 12]\n"
     ]
    }
   ],
   "source": [
    "#Filter ot all even number from list using filter() and lambda function\n",
    "lis = [1, 3, 2, 4, 6, 9, 12]\n",
    "even_list = list(filter(lambda x: (x % 2 == 0), lis))\n",
    "print(even_list)"
   ]
  },
  {
   "cell_type": "code",
   "execution_count": 38,
   "id": "078d4393",
   "metadata": {},
   "outputs": [
    {
     "name": "stdout",
     "output_type": "stream",
     "text": [
      "[20, 25, 19, 35, 30]\n"
     ]
    }
   ],
   "source": [
    "#Filter all people having age more than 18 using filter() and lambda function\n",
    "ages = [20, 25, 18, 19, 35, 30, 10, 5]\n",
    "f_ages = list(filter(lambda age: age>18, ages))\n",
    "print(f_ages)"
   ]
  },
  {
   "cell_type": "code",
   "execution_count": 39,
   "id": "bb266476",
   "metadata": {},
   "outputs": [
    {
     "name": "stdout",
     "output_type": "stream",
     "text": [
      "[2, 4, 6, 8, 10, 12, 14, 16, 18, 20]\n"
     ]
    }
   ],
   "source": [
    "# Using lambda() function with map()\n",
    "#Multiply all items of list by 2\n",
    "thisList = [1,2,3,4,5,6,7,8,9,10]\n",
    "newList = list(map(lambda x : x*2, thisList))\n",
    "print(newList)"
   ]
  },
  {
   "cell_type": "code",
   "execution_count": 43,
   "id": "74923a9b",
   "metadata": {},
   "outputs": [
    {
     "name": "stdout",
     "output_type": "stream",
     "text": [
      "51\n"
     ]
    }
   ],
   "source": [
    "#Using lambda() function with reduce()\n",
    "#Sum  of all elements in a list using lambda function and reduce()\n",
    "from functools import reduce\n",
    "thisList = [1, 5, 10, 20, 15]\n",
    "sum = reduce((lambda x,y: x+y), thisList)\n",
    "print(sum)"
   ]
  },
  {
   "cell_type": "code",
   "execution_count": 47,
   "id": "81e15eb7",
   "metadata": {},
   "outputs": [
    {
     "name": "stdout",
     "output_type": "stream",
     "text": [
      "20\n"
     ]
    }
   ],
   "source": [
    "#Python Lambda function with if else\n",
    "max = lambda a, b : a if(a>b) else b\n",
    "print(max(10, 20))"
   ]
  },
  {
   "cell_type": "code",
   "execution_count": null,
   "id": "77b25001",
   "metadata": {},
   "outputs": [],
   "source": []
  }
 ],
 "metadata": {
  "kernelspec": {
   "display_name": "Python 3 (ipykernel)",
   "language": "python",
   "name": "python3"
  },
  "language_info": {
   "codemirror_mode": {
    "name": "ipython",
    "version": 3
   },
   "file_extension": ".py",
   "mimetype": "text/x-python",
   "name": "python",
   "nbconvert_exporter": "python",
   "pygments_lexer": "ipython3",
   "version": "3.11.5"
  }
 },
 "nbformat": 4,
 "nbformat_minor": 5
}
