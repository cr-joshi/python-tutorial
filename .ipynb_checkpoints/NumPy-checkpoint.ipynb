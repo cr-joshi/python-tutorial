{
 "cells": [
  {
   "cell_type": "code",
   "execution_count": 14,
   "id": "f6972fec",
   "metadata": {},
   "outputs": [
    {
     "name": "stdout",
     "output_type": "stream",
     "text": [
      "[1 2 3]\n",
      "int32\n",
      "<class 'numpy.ndarray'>\n",
      "(3,)\n"
     ]
    }
   ],
   "source": [
    "import numpy as np\n",
    "arr=np.array([1,2,3])\n",
    "print(arr)\n",
    "print(arr.dtype)\n",
    "print(type(arr))\n",
    "print(arr.shape)"
   ]
  },
  {
   "cell_type": "code",
   "execution_count": 15,
   "id": "a9f587cf",
   "metadata": {},
   "outputs": [
    {
     "name": "stdout",
     "output_type": "stream",
     "text": [
      "[[1 2 3]\n",
      " [4 5 6]]\n",
      "int32\n",
      "<class 'numpy.ndarray'>\n",
      "(2, 3)\n"
     ]
    }
   ],
   "source": [
    "import numpy as np\n",
    "arr2d = np.array([[1,2, 3], [4,5,6]])\n",
    "print(arr2d)\n",
    "print(arr2d.dtype)\n",
    "print(type(arr2d))\n",
    "print(arr2d.shape)"
   ]
  },
  {
   "cell_type": "code",
   "execution_count": 11,
   "id": "bf4e85fb",
   "metadata": {},
   "outputs": [
    {
     "name": "stdout",
     "output_type": "stream",
     "text": [
      "[[[ 1  2  3]\n",
      "  [ 4  5  6]]\n",
      "\n",
      " [[ 7  8  9]\n",
      "  [10 11 12]]]\n",
      "int32\n",
      "<class 'numpy.ndarray'>\n",
      "(2, 2, 3)\n"
     ]
    }
   ],
   "source": [
    "import numpy as np\n",
    "arr3d = np.array([[[1, 2, 3], [4,5,6]], [[7,8,9], [10, 11, 12]]])\n",
    "print(arr3d)\n",
    "print(arr3d.dtype)\n",
    "print(type(arr3d))\n",
    "print(arr3d.shape)"
   ]
  },
  {
   "cell_type": "code",
   "execution_count": 23,
   "id": "911593e4",
   "metadata": {},
   "outputs": [
    {
     "name": "stdout",
     "output_type": "stream",
     "text": [
      "[1 2 3 4 5]\n",
      "(5,)\n",
      "<class 'numpy.ndarray'>\n",
      "[1 2 3 4 5]\n"
     ]
    }
   ],
   "source": [
    "# 1D Array\n",
    "arr1d = np.array([1,2,3,4,5])\n",
    "print(arr1d)\n",
    "print(arr1d.shape)\n",
    "print(type(arr1d))\n",
    "print(arr1d[:])"
   ]
  },
  {
   "cell_type": "code",
   "execution_count": 29,
   "id": "7c43601a",
   "metadata": {},
   "outputs": [
    {
     "name": "stdout",
     "output_type": "stream",
     "text": [
      "[[1 2 3 4]\n",
      " [5 6 7 8]]\n",
      "<class 'numpy.ndarray'>\n",
      "(2, 4)\n",
      "8\n"
     ]
    }
   ],
   "source": [
    "# 2D Array\n",
    "arr2d = np.array([[1,2,3,4], [5,6,7,8]])\n",
    "print(arr2d)\n",
    "print(type(arr2d))\n",
    "print(arr2d.shape)\n",
    "print(arr2d[1, 3])"
   ]
  },
  {
   "cell_type": "code",
   "execution_count": 34,
   "id": "33ee919b",
   "metadata": {},
   "outputs": [
    {
     "name": "stdout",
     "output_type": "stream",
     "text": [
      "[[[ 1  2  3]\n",
      "  [ 4  5  6]]\n",
      "\n",
      " [[ 7  8  9]\n",
      "  [10 11 12]]]\n",
      "<class 'numpy.ndarray'>\n",
      "(2, 2, 3)\n",
      "12\n"
     ]
    }
   ],
   "source": [
    "# arr3d\n",
    "arr3d = np.array([[[1, 2, 3], [4,5,6]], [[7, 8, 9], [10,11,12]]])\n",
    "print(arr3d)\n",
    "print(type(arr3d))\n",
    "print(arr3d.shape)\n",
    "print(arr3d[1, 1, 2])"
   ]
  },
  {
   "cell_type": "code",
   "execution_count": null,
   "id": "c8d4fafe",
   "metadata": {},
   "outputs": [],
   "source": [
    "# NumPy Array Slicing"
   ]
  },
  {
   "cell_type": "code",
   "execution_count": 21,
   "id": "4bfbe838",
   "metadata": {},
   "outputs": [
    {
     "name": "stdout",
     "output_type": "stream",
     "text": [
      "[1 2 3 4 5]\n",
      "<class 'numpy.ndarray'>\n",
      "int32\n",
      "(5,)\n",
      "[1 3 5]\n"
     ]
    }
   ],
   "source": [
    "# 1D array slicing\n",
    "import numpy as np\n",
    "arr1d = np.array([1,2,3,4,5])\n",
    "print(arr1d)\n",
    "print(type(arr1d))\n",
    "print(arr1d.dtype)\n",
    "print(arr1d.shape)\n",
    "print(arr1d[::2])"
   ]
  },
  {
   "cell_type": "code",
   "execution_count": 55,
   "id": "0c4ff32f",
   "metadata": {},
   "outputs": [
    {
     "name": "stdout",
     "output_type": "stream",
     "text": [
      "[[ 1  2  3  4]\n",
      " [ 5  6  7  8]\n",
      " [ 9 10 11 12]]\n",
      "<class 'numpy.ndarray'>\n",
      "int32\n",
      "(3, 4)\n",
      "[[ 1  3]\n",
      " [ 5  7]\n",
      " [ 9 11]]\n",
      "[[ 1  4]\n",
      " [ 5  8]\n",
      " [ 9 12]]\n",
      "[[ 2  3]\n",
      " [ 6  7]\n",
      " [10 11]]\n",
      "2\n"
     ]
    }
   ],
   "source": [
    "# 2D array slicing\n",
    "arr2d = np.array([[1,2,3,4], [5,6,7,8], [9, 10, 11, 12]])\n",
    "print(arr2d)\n",
    "print(type(arr2d))\n",
    "print(arr2d.dtype)\n",
    "print(arr2d.shape)\n",
    "print(arr2d[0:3, 0:4:2])\n",
    "#print(array_name[row_stat, row_end, start, end, step])\n",
    "print(arr2d[0:3, 0:4:3])\n",
    "print(arr2d[0:3, 1:3])\n",
    "print(arr2d.ndim)"
   ]
  },
  {
   "cell_type": "code",
   "execution_count": 54,
   "id": "479a10dc",
   "metadata": {},
   "outputs": [
    {
     "name": "stdout",
     "output_type": "stream",
     "text": [
      "[[[ 1  2  3  4]\n",
      "  [ 5  6  7  8]]\n",
      "\n",
      " [[ 9 10 11 12]\n",
      "  [13 14 15 16]]\n",
      "\n",
      " [[17 18 19 20]\n",
      "  [21 22 23 24]]]\n",
      "int32\n",
      "(3, 2, 4)\n",
      "<class 'numpy.ndarray'>\n",
      "[[[ 2  3]\n",
      "  [ 6  7]]\n",
      "\n",
      " [[10 11]\n",
      "  [14 15]]\n",
      "\n",
      " [[18 19]\n",
      "  [22 23]]]\n",
      "[[[ 1  2  3  4]\n",
      "  [ 5  6  7  8]]\n",
      "\n",
      " [[ 9 10 11 12]\n",
      "  [13 14 15 16]]\n",
      "\n",
      " [[17 18 19 20]\n",
      "  [21 22 23 24]]]\n",
      "[[[ 1  4]\n",
      "  [ 5  8]]\n",
      "\n",
      " [[ 9 12]\n",
      "  [13 16]]\n",
      "\n",
      " [[17 20]\n",
      "  [21 24]]]\n",
      "3\n"
     ]
    }
   ],
   "source": [
    "#3D Array slicing\n",
    "arr3d = np.array([[[1,2,3,4],[5,6,7,8]], [[9,10,11,12],[13,14,15,16]], [[17,18,19,20],[21,22,23,24]]])\n",
    "print(arr3d)\n",
    "print(arr3d.dtype)\n",
    "print(arr3d.shape)\n",
    "print(type(arr3d))\n",
    "print(arr3d[0:3, 0:3, 1:3])\n",
    "print(arr3d[0:3, 0:3, 0:4])\n",
    "print(arr3d[0:3, 0:3, 0:4:3])\n",
    "print(arr3d.ndim)"
   ]
  },
  {
   "cell_type": "code",
   "execution_count": 66,
   "id": "5532cfa2",
   "metadata": {},
   "outputs": [
    {
     "name": "stdout",
     "output_type": "stream",
     "text": [
      "int8\n"
     ]
    }
   ],
   "source": [
    "#DataTypes in numpy\n",
    "arr1 = np.array([True, False, True], dtype='b')\n",
    "print(arr1.dtype)"
   ]
  },
  {
   "cell_type": "code",
   "execution_count": 72,
   "id": "f692d7a5",
   "metadata": {},
   "outputs": [
    {
     "name": "stdout",
     "output_type": "stream",
     "text": [
      "[1 2 3 4]\n",
      "[2.  5.5 7.  8. ]\n",
      "[ True  True False  True False]\n"
     ]
    }
   ],
   "source": [
    "#Converting data type on existing array\n",
    "#astype() => useful methods for vconverting data type, it creates a new array.\n",
    "arr1 = np.array([1.5, 2.8, 3.6, 4.4])\n",
    "newarr1 = arr1.astype('i')\n",
    "print(newarr1)\n",
    "\n",
    "arr2 = np.array([2, 5.5, 7, 8])\n",
    "newarr2 = arr2.astype(float)\n",
    "print(newarr2)\n",
    "\n",
    "arr3 = np.array([1,2, 0, 5, 0])\n",
    "newarr3 = arr3.astype(bool)\n",
    "print(newarr3)"
   ]
  },
  {
   "cell_type": "code",
   "execution_count": 80,
   "id": "4e73fd69",
   "metadata": {},
   "outputs": [
    {
     "name": "stdout",
     "output_type": "stream",
     "text": [
      "[1 2 3 4 5]\n",
      "[10  2  3  4  5]\n",
      "[2 4 6 8]\n",
      "None\n",
      "[2 4 6 8]\n"
     ]
    }
   ],
   "source": [
    "#NumPy Copy Vs View\n",
    "#Copy is a new array will nor affect original array.\n",
    "#View is just the view of original array willaffect the original array.\n",
    "arr1 = np.array([1, 2, 3, 4, 5])\n",
    "copyarr = arr1.copy()\n",
    "copyarr[0] = 10\n",
    "arr2 = np.array([2, 4, 6, 8])\n",
    "viewarr2 = arr2.view()\n",
    "print(arr1)\n",
    "print(copyarr)\n",
    "print(arr2)\n",
    "print(copyarr.base)\n",
    "print(viewarr2.base)"
   ]
  },
  {
   "cell_type": "code",
   "execution_count": 93,
   "id": "913bdd48",
   "metadata": {},
   "outputs": [
    {
     "name": "stdout",
     "output_type": "stream",
     "text": [
      "[ 2  4  6  7  8 10 12 13 14 15 17 18]\n",
      "1\n",
      "(12,)\n",
      "<class 'numpy.ndarray'>\n",
      "[[[ 2  4]\n",
      "  [ 6  7]]\n",
      "\n",
      " [[ 8 10]\n",
      "  [12 13]]\n",
      "\n",
      " [[14 15]\n",
      "  [17 18]]]\n"
     ]
    }
   ],
   "source": [
    "#NumPy array reshaping\n",
    "#Reshaping 1D array to 2D Array\n",
    "arr1d = np.array([2,4,6,7,8,10, 12,13,14, 15, 17, 18])\n",
    "print(arr1d)\n",
    "print(arr1d.ndim)\n",
    "print(arr1d.shape)\n",
    "print(type(arr1d))\n",
    "newarr = arr1d.reshape(3, 2, -1)\n",
    "print(newarr)"
   ]
  },
  {
   "cell_type": "code",
   "execution_count": 95,
   "id": "6cc98e0c",
   "metadata": {},
   "outputs": [
    {
     "name": "stdout",
     "output_type": "stream",
     "text": [
      "[[  2   4   6   8]\n",
      " [ 10 112  14  16]]\n",
      "[  2   4   6   8  10 112  14  16]\n"
     ]
    }
   ],
   "source": [
    "#Flattening the arrays (Converting multidimensional array to 1 Dimensional)\n",
    "arr = np.array([[2,4,6,8], [10, 112, 14, 16]])\n",
    "print(arr)\n",
    "newarr = arr.reshape(-1)\n",
    "print(newarr)"
   ]
  },
  {
   "cell_type": "code",
   "execution_count": null,
   "id": "56125d00",
   "metadata": {},
   "outputs": [],
   "source": []
  }
 ],
 "metadata": {
  "kernelspec": {
   "display_name": "Python 3 (ipykernel)",
   "language": "python",
   "name": "python3"
  },
  "language_info": {
   "codemirror_mode": {
    "name": "ipython",
    "version": 3
   },
   "file_extension": ".py",
   "mimetype": "text/x-python",
   "name": "python",
   "nbconvert_exporter": "python",
   "pygments_lexer": "ipython3",
   "version": "3.11.5"
  }
 },
 "nbformat": 4,
 "nbformat_minor": 5
}
