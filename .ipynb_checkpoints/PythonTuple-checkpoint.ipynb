{
 "cells": [
  {
   "cell_type": "code",
   "execution_count": 4,
   "id": "8f5c5922",
   "metadata": {},
   "outputs": [
    {
     "name": "stdout",
     "output_type": "stream",
     "text": [
      "('bmw', 'volvo', 'tesla', 'ford')\n",
      "<class 'tuple'>\n",
      "<class 'tuple'>\n",
      "<class 'str'>\n"
     ]
    }
   ],
   "source": [
    "# Tuple items are Orderd, Unchanheable and allows duplicate values\n",
    "#Creating tuple\n",
    "tuple = (\"bmw\", \"volvo\", \"tesla\", \"ford\")\n",
    "print(tuple)\n",
    "print(type(tuple))\n",
    "tuple1 =(\"apple\",)\n",
    "print(type(tuple1))\n",
    "tuple2 = (\"apple\")\n",
    "print(type(tuple2))"
   ]
  },
  {
   "cell_type": "code",
   "execution_count": 21,
   "id": "c6eae020",
   "metadata": {},
   "outputs": [
    {
     "name": "stdout",
     "output_type": "stream",
     "text": [
      "bmw\n",
      "('bmw', 'volvo', 'tesla', 'ford')\n",
      "('bmw', 'volvo', 'tesla', 'ford')\n",
      "('bmw', 'volvo', 'tesla', 'ford')\n",
      "('bmw', 'volvo')\n",
      "No\n"
     ]
    }
   ],
   "source": [
    "# Accessing tuple items\n",
    "tuple = (\"bmw\", \"volvo\", \"tesla\", \"ford\")\n",
    "print(tuple[0])\n",
    "print(tuple[0:])\n",
    "print(tuple[:4])\n",
    "print(tuple[-4:])\n",
    "print(tuple[-4:-2])\n",
    "# Check if item exist\n",
    "if \"bmg\" in tuple:\n",
    "    print(\"Yes\")\n",
    "else:\n",
    "    print(\"No\")"
   ]
  },
  {
   "cell_type": "code",
   "execution_count": 43,
   "id": "2cfd02d6",
   "metadata": {},
   "outputs": [],
   "source": [
    "# Update Tuples\n",
    "# 1. Changing Tuple (Converting tuple to list and list to tuple)\n"
   ]
  },
  {
   "cell_type": "code",
   "execution_count": 49,
   "id": "f8e6939e",
   "metadata": {},
   "outputs": [
    {
     "name": "stdout",
     "output_type": "stream",
     "text": [
      "('apple', 'cherry', 'mango', 'kiwi')\n",
      "Tesla\n",
      "['Toyota', 'Ford', 'Thar']\n",
      "BMW\n"
     ]
    }
   ],
   "source": [
    "# Packing a tuple =>Assigning a value to tuple is calling tuple packing.\n",
    "t=(\"apple\", \"cherry\", \"mango\", \"kiwi\")\n",
    "print(t)\n",
    "# Unpackibg a tuple => Extracting a vlue back into variables from tuple is called unpacking tuple.\n",
    "cars = (\"Tesla\", \"Toyota\",\"Ford\",\"Thar\", \"BMW\")\n",
    "(ev, *offroad, luxury) = cars\n",
    "print(ev)\n",
    "print(offroad)\n",
    "print(luxury)\n"
   ]
  },
  {
   "cell_type": "code",
   "execution_count": 51,
   "id": "c39b1b15",
   "metadata": {},
   "outputs": [
    {
     "name": "stdout",
     "output_type": "stream",
     "text": [
      "Tesla\n",
      "Toyota\n",
      "Ford\n",
      "Thar\n",
      "BMW\n"
     ]
    },
    {
     "ename": "TypeError",
     "evalue": "'tuple' object is not callable",
     "output_type": "error",
     "traceback": [
      "\u001b[1;31m---------------------------------------------------------------------------\u001b[0m",
      "\u001b[1;31mTypeError\u001b[0m                                 Traceback (most recent call last)",
      "Cell \u001b[1;32mIn[51], line 10\u001b[0m\n\u001b[0;32m      8\u001b[0m cars \u001b[38;5;241m=\u001b[39m (\u001b[38;5;124m\"\u001b[39m\u001b[38;5;124mTesla\u001b[39m\u001b[38;5;124m\"\u001b[39m, \u001b[38;5;124m\"\u001b[39m\u001b[38;5;124mToyota\u001b[39m\u001b[38;5;124m\"\u001b[39m,\u001b[38;5;124m\"\u001b[39m\u001b[38;5;124mFord\u001b[39m\u001b[38;5;124m\"\u001b[39m,\u001b[38;5;124m\"\u001b[39m\u001b[38;5;124mThar\u001b[39m\u001b[38;5;124m\"\u001b[39m, \u001b[38;5;124m\"\u001b[39m\u001b[38;5;124mBMW\u001b[39m\u001b[38;5;124m\"\u001b[39m)\n\u001b[0;32m      9\u001b[0m \u001b[38;5;28;01mfor\u001b[39;00m x \u001b[38;5;129;01min\u001b[39;00m \u001b[38;5;28mrange\u001b[39m(\u001b[38;5;28mlen\u001b[39m(cars)):\n\u001b[1;32m---> 10\u001b[0m     \u001b[38;5;28mprint\u001b[39m(cars(x))\n",
      "\u001b[1;31mTypeError\u001b[0m: 'tuple' object is not callable"
     ]
    }
   ],
   "source": [
    "#Looping through tuple\n",
    "#Using for in loop\n",
    "# cars = (\"Tesla\", \"Toyota\",\"Ford\",\"Thar\", \"BMW\")\n",
    "# for x in cars:\n",
    "#     print(x)\n",
    "    \n",
    "#Looping through index number\n",
    "cars = (\"Tesla\", \"Toyota\",\"Ford\",\"Thar\", \"BMW\")\n",
    "for x in range(len(cars)):\n",
    "    print(cars(x))"
   ]
  },
  {
   "cell_type": "code",
   "execution_count": null,
   "id": "8e31c2b3",
   "metadata": {},
   "outputs": [],
   "source": []
  }
 ],
 "metadata": {
  "kernelspec": {
   "display_name": "Python 3 (ipykernel)",
   "language": "python",
   "name": "python3"
  },
  "language_info": {
   "codemirror_mode": {
    "name": "ipython",
    "version": 3
   },
   "file_extension": ".py",
   "mimetype": "text/x-python",
   "name": "python",
   "nbconvert_exporter": "python",
   "pygments_lexer": "ipython3",
   "version": "3.11.5"
  }
 },
 "nbformat": 4,
 "nbformat_minor": 5
}
