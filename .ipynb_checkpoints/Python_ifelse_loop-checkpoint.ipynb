{
 "cells": [
  {
   "cell_type": "code",
   "execution_count": 2,
   "id": "a66b84be",
   "metadata": {},
   "outputs": [
    {
     "name": "stdout",
     "output_type": "stream",
     "text": [
      "Enter number:9\n",
      "Number is odd.\n"
     ]
    }
   ],
   "source": [
    "#Python if else\n",
    "# 1. Check number is either even or odd.\n",
    "num = int(input(\"Enter number:\"))\n",
    "if(num % 2 == 0):\n",
    "    print(\"Number is even.\")\n",
    "else:\n",
    "    print(\"Number is odd.\")"
   ]
  },
  {
   "cell_type": "code",
   "execution_count": 5,
   "id": "d020189d",
   "metadata": {},
   "outputs": [
    {
     "name": "stdout",
     "output_type": "stream",
     "text": [
      "Enter number:0\n",
      "Number is zero\n"
     ]
    }
   ],
   "source": [
    "# 2. Check input number is positive, negative or zero.\n",
    "num = int(input(\"Enter number:\"))\n",
    "if num > 0:\n",
    "    print(\"Number is positive.\")\n",
    "elif num < 0:\n",
    "    print(\"Number is negative.\")\n",
    "else:\n",
    "    print(\"Number is zero\")\n",
    "    "
   ]
  },
  {
   "cell_type": "code",
   "execution_count": 7,
   "id": "999cc9ce",
   "metadata": {},
   "outputs": [
    {
     "name": "stdout",
     "output_type": "stream",
     "text": [
      "Marks of English:35\n",
      "Marks of nepali:30\n",
      "Marks of maths:25\n",
      "Total marks obtained:  90.0\n",
      "Percentage:  30.0\n",
      "NG\n"
     ]
    }
   ],
   "source": [
    "#Print grade of a student\n",
    "eng = float(input(\"Marks of English:\"))\n",
    "nep = float(input(\"Marks of nepali:\"))\n",
    "maths = float(input(\"Marks of maths:\"))\n",
    "total = eng+nep+maths\n",
    "per = total/300*100\n",
    "print(\"Total marks obtained: \",total)\n",
    "print(\"Percentage: \", per)\n",
    "if per>=90:\n",
    "    print(\"You obtained grade A+\")\n",
    "elif per >=80:\n",
    "    print(\"You obtained grade A\")\n",
    "elif per>=70:\n",
    "    print(\"You obtained grade B+\")\n",
    "elif per>=60:\n",
    "    print(\"You obtained grade B\")\n",
    "elif per >=50:\n",
    "    print(\"You obtained grade C+\")\n",
    "elif per >=40:\n",
    "    print(\"You obtained grade C\")\n",
    "else:\n",
    "    print(\"Non-Grade\")\n"
   ]
  },
  {
   "cell_type": "code",
   "execution_count": null,
   "id": "da76e79f",
   "metadata": {},
   "outputs": [],
   "source": []
  }
 ],
 "metadata": {
  "kernelspec": {
   "display_name": "Python 3 (ipykernel)",
   "language": "python",
   "name": "python3"
  },
  "language_info": {
   "codemirror_mode": {
    "name": "ipython",
    "version": 3
   },
   "file_extension": ".py",
   "mimetype": "text/x-python",
   "name": "python",
   "nbconvert_exporter": "python",
   "pygments_lexer": "ipython3",
   "version": "3.11.5"
  }
 },
 "nbformat": 4,
 "nbformat_minor": 5
}
