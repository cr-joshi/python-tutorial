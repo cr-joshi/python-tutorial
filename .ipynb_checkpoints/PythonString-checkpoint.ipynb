{
 "cells": [
  {
   "cell_type": "code",
   "execution_count": 1,
   "id": "5f5efa65",
   "metadata": {},
   "outputs": [
    {
     "name": "stdout",
     "output_type": "stream",
     "text": [
      "Hello\n"
     ]
    }
   ],
   "source": [
    "#Python String\n",
    "str= \"Hello\"\n",
    "print(str)"
   ]
  },
  {
   "cell_type": "code",
   "execution_count": 3,
   "id": "ac0642e7",
   "metadata": {},
   "outputs": [
    {
     "name": "stdout",
     "output_type": "stream",
     "text": [
      "Python multiline string\n",
      "Tutorial for beginners\n"
     ]
    }
   ],
   "source": [
    "str = \"\"\"Python multiline string\n",
    "Tutorial for beginners\"\"\"\n",
    "print(str)"
   ]
  },
  {
   "cell_type": "code",
   "execution_count": 4,
   "id": "8f012ce9",
   "metadata": {},
   "outputs": [
    {
     "name": "stdout",
     "output_type": "stream",
     "text": [
      "Python multiline string\n",
      "Tutorial for beginners\n"
     ]
    }
   ],
   "source": [
    "str = '''Python multiline string\n",
    "Tutorial for beginners'''\n",
    "print(str)"
   ]
  },
  {
   "cell_type": "code",
   "execution_count": 15,
   "id": "07012f5f",
   "metadata": {},
   "outputs": [
    {
     "name": "stdout",
     "output_type": "stream",
     "text": [
      "12\n",
      " \n",
      "<class 'str'>\n",
      "H\n",
      "e\n",
      "l\n",
      "l\n",
      "o\n",
      " \n",
      "P\n",
      "y\n",
      "t\n",
      "h\n",
      "o\n",
      "n\n"
     ]
    }
   ],
   "source": [
    "str = \"Hello Python\"\n",
    "print(len(str))\n",
    "print(str[5])\n",
    "print(type(str))\n",
    "for x in str:\n",
    "    print(x)"
   ]
  },
  {
   "cell_type": "code",
   "execution_count": 22,
   "id": "a006121c",
   "metadata": {},
   "outputs": [
    {
     "name": "stdout",
     "output_type": "stream",
     "text": [
      "yes, best is present!\n"
     ]
    }
   ],
   "source": [
    "#Check String\n",
    "txt = \"The best things in life is to learn python!\"\n",
    "if \"best\" in txt:\n",
    "    print(\"yes, best is present!\")"
   ]
  },
  {
   "cell_type": "code",
   "execution_count": 27,
   "id": "6962af49",
   "metadata": {},
   "outputs": [
    {
     "name": "stdout",
     "output_type": "stream",
     "text": [
      "False\n"
     ]
    }
   ],
   "source": [
    "txt = \"The best things in life is to learn python!\"\n",
    "print(\"best\"  not in txt)"
   ]
  },
  {
   "cell_type": "code",
   "execution_count": 28,
   "id": "cdb25af0",
   "metadata": {},
   "outputs": [
    {
     "name": "stdout",
     "output_type": "stream",
     "text": [
      "Yes, hard is not oresent.\n"
     ]
    }
   ],
   "source": [
    "txt = \"The best things in life is to learn python!\"\n",
    "if \"hard\" not in txt:\n",
    "    print(\"Yes, hard is not present.\")"
   ]
  },
  {
   "cell_type": "code",
   "execution_count": 35,
   "id": "3e75cced",
   "metadata": {},
   "outputs": [
    {
     "name": "stdout",
     "output_type": "stream",
     "text": [
      "Hello\n",
      "Hello\n",
      "Hello\n",
      "Hell\n"
     ]
    }
   ],
   "source": [
    "#Slicing String\n",
    "txt=\"Hello\"\n",
    "print(txt[0:5])\n",
    "print(txt[0:])\n",
    "print(txt[:5])\n",
    "print(txt[-5:-1])"
   ]
  },
  {
   "cell_type": "code",
   "execution_count": 36,
   "id": "1d6c4155",
   "metadata": {},
   "outputs": [
    {
     "name": "stdout",
     "output_type": "stream",
     "text": [
      "HELLO\n"
     ]
    }
   ],
   "source": [
    "#Modify String\n",
    "txt = \"hello\"\n",
    "print(txt.upper())"
   ]
  },
  {
   "cell_type": "code",
   "execution_count": 37,
   "id": "88b1288d",
   "metadata": {},
   "outputs": [
    {
     "name": "stdout",
     "output_type": "stream",
     "text": [
      "hello\n"
     ]
    }
   ],
   "source": [
    "txt = \"HELLO\"\n",
    "print(txt.lower())"
   ]
  },
  {
   "cell_type": "code",
   "execution_count": 39,
   "id": "506f8884",
   "metadata": {},
   "outputs": [
    {
     "name": "stdout",
     "output_type": "stream",
     "text": [
      "Hello Python!\n",
      "Hello learning python is the best things of the life!\n"
     ]
    }
   ],
   "source": [
    "#strip() to remove white spaces from start and end\n",
    "txt = \"  Hello Python!  \"\n",
    "print(txt.strip())\n",
    "txt1 = \"   Hello learning python is the best things of the life!    \"\n",
    "print(txt1.strip())"
   ]
  },
  {
   "cell_type": "code",
   "execution_count": 40,
   "id": "7e5f5593",
   "metadata": {},
   "outputs": [
    {
     "name": "stdout",
     "output_type": "stream",
     "text": [
      "Good Morning\n"
     ]
    }
   ],
   "source": [
    "#replace() method replaces string with another\n",
    "txt = \"Good Evening\"\n",
    "print(txt.replace(\"Evening\", \"Morning\"))"
   ]
  },
  {
   "cell_type": "code",
   "execution_count": 41,
   "id": "cc506057",
   "metadata": {},
   "outputs": [
    {
     "name": "stdout",
     "output_type": "stream",
     "text": [
      "['Hello', ' World!']\n"
     ]
    }
   ],
   "source": [
    "#split() method splits string into substrings if it finds the seperator of instances.\n",
    "txt = \"Hello, World!\"\n",
    "print(txt.split(\",\"))"
   ]
  },
  {
   "cell_type": "code",
   "execution_count": 43,
   "id": "28c8c19d",
   "metadata": {},
   "outputs": [
    {
     "name": "stdout",
     "output_type": "stream",
     "text": [
      "Hello Kathmandu\n"
     ]
    }
   ],
   "source": [
    "#String concatination\n",
    "txt1= \"Hello\"\n",
    "txt2=\"Kathmandu\"\n",
    "print(txt1 + \" \" + txt2)"
   ]
  },
  {
   "cell_type": "code",
   "execution_count": 45,
   "id": "3b8a567a",
   "metadata": {},
   "outputs": [
    {
     "name": "stdout",
     "output_type": "stream",
     "text": [
      "I bought 2 and 1 laptop.\n"
     ]
    }
   ],
   "source": [
    "#formats() method combines string and numbers.\n",
    "txt = \"I bought {} phones and {} laptop.\"\n",
    "phone = 2\n",
    "laptop = 1\n",
    "print(txt.format(phone, laptop))"
   ]
  },
  {
   "cell_type": "code",
   "execution_count": null,
   "id": "76bb017f",
   "metadata": {},
   "outputs": [],
   "source": []
  }
 ],
 "metadata": {
  "kernelspec": {
   "display_name": "Python 3 (ipykernel)",
   "language": "python",
   "name": "python3"
  },
  "language_info": {
   "codemirror_mode": {
    "name": "ipython",
    "version": 3
   },
   "file_extension": ".py",
   "mimetype": "text/x-python",
   "name": "python",
   "nbconvert_exporter": "python",
   "pygments_lexer": "ipython3",
   "version": "3.11.5"
  }
 },
 "nbformat": 4,
 "nbformat_minor": 5
}
