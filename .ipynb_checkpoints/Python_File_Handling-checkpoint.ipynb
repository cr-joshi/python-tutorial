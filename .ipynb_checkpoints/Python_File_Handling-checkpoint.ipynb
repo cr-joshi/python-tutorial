{
 "cells": [
  {
   "cell_type": "code",
   "execution_count": 1,
   "id": "8dd8bf26",
   "metadata": {},
   "outputs": [],
   "source": [
    "#Create a new file\n",
    "f = open(\"demo1.txt\", \"x\")"
   ]
  },
  {
   "cell_type": "code",
   "execution_count": 3,
   "id": "bd04bd01",
   "metadata": {},
   "outputs": [],
   "source": [
    "#Write to the file\n",
    "f = open(\"demo1.txt\", \"w\")\n",
    "f.write(\"Hello World!\")\n",
    "f.close()"
   ]
  },
  {
   "cell_type": "code",
   "execution_count": 6,
   "id": "1a8afd06",
   "metadata": {},
   "outputs": [],
   "source": [
    "f=open(\"demo1.txt\", \"a\")\n",
    "f.write(\"\\nGood Morning!\")\n",
    "f.close()"
   ]
  },
  {
   "cell_type": "code",
   "execution_count": 7,
   "id": "59ac8878",
   "metadata": {},
   "outputs": [
    {
     "name": "stdout",
     "output_type": "stream",
     "text": [
      "Hello World!\n",
      " Good Morning!\n",
      "Good Morning!\n"
     ]
    }
   ],
   "source": [
    "f=open(\"demo1.txt\", \"r\")\n",
    "print(f.read())"
   ]
  },
  {
   "cell_type": "code",
   "execution_count": 20,
   "id": "8710696e",
   "metadata": {},
   "outputs": [],
   "source": [
    "#Creating a single directory using os.mkdir() method\n",
    "import os\n",
    "path = \"./demofolder\"\n",
    "os.mkdir(path)"
   ]
  },
  {
   "cell_type": "code",
   "execution_count": 19,
   "id": "2fc8aefc",
   "metadata": {},
   "outputs": [],
   "source": [
    "#Deleting a folder\n",
    "# import os\n",
    "# os.rmdir(\"demofolder\")"
   ]
  },
  {
   "cell_type": "code",
   "execution_count": 28,
   "id": "1cb495b2",
   "metadata": {},
   "outputs": [
    {
     "name": "stdout",
     "output_type": "stream",
     "text": [
      "The folder ./demofolder already exist!\n"
     ]
    }
   ],
   "source": [
    "#Handle exception when using the os.mkdir() in python\n",
    "# 1. Hanling using if/else\n",
    "import os\n",
    "path = \"./demofolder\"\n",
    "#Check if folder is exist or not\n",
    "if not os.path.exists(path):\n",
    "    os.mkdir(path)\n",
    "    print(\"Folder %s is created!\" % path)\n",
    "else:\n",
    "    print(\"The folder %s already exist!\" % path)\n"
   ]
  },
  {
   "cell_type": "code",
   "execution_count": 29,
   "id": "014c02a6",
   "metadata": {},
   "outputs": [
    {
     "name": "stdout",
     "output_type": "stream",
     "text": [
      "Folder ./machinelearning is created!\n"
     ]
    }
   ],
   "source": [
    "import os\n",
    "path = \"./machinelearning\"\n",
    "#Check if folder exist or not\n",
    "if not os.path.exists(path):\n",
    "    os.mkdir(path)\n",
    "    print(\"Folder %s is created!\" % path)\n",
    "else:\n",
    "    print(\"FOlder %s already exists!\" % path)"
   ]
  },
  {
   "cell_type": "code",
   "execution_count": 41,
   "id": "a734a1dc",
   "metadata": {},
   "outputs": [
    {
     "name": "stdout",
     "output_type": "stream",
     "text": [
      "Folder ./machinelearning already exists!\n"
     ]
    }
   ],
   "source": [
    "#Exception handling using try/except\n",
    "import os\n",
    "path = \"./machinelearning\"\n",
    "try:\n",
    "    os.mkdir(path)\n",
    "    print(\"Folder %s is created!\" % path)\n",
    "except FileExistsError:\n",
    "    print(\"Folder %s already exists!\" % path)"
   ]
  },
  {
   "cell_type": "code",
   "execution_count": 43,
   "id": "fcb645b7",
   "metadata": {},
   "outputs": [
    {
     "name": "stdout",
     "output_type": "stream",
     "text": [
      "Folder ./,machinelearning does nt exist!\n"
     ]
    }
   ],
   "source": [
    "#Deleting folder\n",
    "import os\n",
    "path = \"./,machinelearning\"\n",
    "\n",
    "if os.path.exists(path):\n",
    "    os.rmdir(path)\n",
    "    print(\"Folder %s deleted!\" % path)\n",
    "else:\n",
    "    print(\"Folder %s does not exist!\" % path)"
   ]
  },
  {
   "cell_type": "code",
   "execution_count": 45,
   "id": "189e8d93",
   "metadata": {},
   "outputs": [
    {
     "name": "stdout",
     "output_type": "stream",
     "text": [
      "Folder ./,.machinelearning deleted!\n"
     ]
    }
   ],
   "source": [
    "import os\n",
    "path = \"./,.machinelearning\"\n",
    "\n",
    "if os.path.exists(path):\n",
    "    os.rmdir(path)\n",
    "    print(\"Folder %s deleted!\" % path)\n",
    "else:\n",
    "    print(\"Folder %s does not exist!\" % path)"
   ]
  },
  {
   "cell_type": "code",
   "execution_count": null,
   "id": "5f07db4f",
   "metadata": {},
   "outputs": [],
   "source": []
  },
  {
   "cell_type": "code",
   "execution_count": null,
   "id": "80b632fc",
   "metadata": {},
   "outputs": [],
   "source": []
  }
 ],
 "metadata": {
  "kernelspec": {
   "display_name": "Python 3 (ipykernel)",
   "language": "python",
   "name": "python3"
  },
  "language_info": {
   "codemirror_mode": {
    "name": "ipython",
    "version": 3
   },
   "file_extension": ".py",
   "mimetype": "text/x-python",
   "name": "python",
   "nbconvert_exporter": "python",
   "pygments_lexer": "ipython3",
   "version": "3.11.5"
  }
 },
 "nbformat": 4,
 "nbformat_minor": 5
}
