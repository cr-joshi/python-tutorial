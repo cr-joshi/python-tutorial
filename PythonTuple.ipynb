{
 "cells": [
  {
   "cell_type": "code",
   "execution_count": 4,
   "id": "cfac8d9c",
   "metadata": {},
   "outputs": [
    {
     "name": "stdout",
     "output_type": "stream",
     "text": [
      "('bmw', 'volvo', 'tesla', 'ford')\n",
      "<class 'tuple'>\n",
      "<class 'tuple'>\n",
      "<class 'str'>\n"
     ]
    }
   ],
   "source": [
    "# Tuple items are Orderd, Unchanheable and allows duplicate values\n",
    "#Creating tuple\n",
    "tuple = (\"bmw\", \"volvo\", \"tesla\", \"ford\")\n",
    "print(tuple)\n",
    "print(type(tuple))\n",
    "tuple1 =(\"apple\",)\n",
    "print(type(tuple1))\n",
    "tuple2 = (\"apple\")\n",
    "print(type(tuple2))"
   ]
  },
  {
   "cell_type": "code",
   "execution_count": 21,
   "id": "5f8b5ebb",
   "metadata": {},
   "outputs": [
    {
     "name": "stdout",
     "output_type": "stream",
     "text": [
      "bmw\n",
      "('bmw', 'volvo', 'tesla', 'ford')\n",
      "('bmw', 'volvo', 'tesla', 'ford')\n",
      "('bmw', 'volvo', 'tesla', 'ford')\n",
      "('bmw', 'volvo')\n",
      "No\n"
     ]
    }
   ],
   "source": [
    "# Accessing tuple items\n",
    "tuple = (\"bmw\", \"volvo\", \"tesla\", \"ford\")\n",
    "print(tuple[0])\n",
    "print(tuple[0:])\n",
    "print(tuple[:4])\n",
    "print(tuple[-4:])\n",
    "print(tuple[-4:-2])\n",
    "# Check if item exist\n",
    "if \"bmg\" in tuple:\n",
    "    print(\"Yes\")\n",
    "else:\n",
    "    print(\"No\")"
   ]
  },
  {
   "cell_type": "code",
   "execution_count": 43,
   "id": "e9e6b9ba",
   "metadata": {},
   "outputs": [],
   "source": [
    "# Update Tuples\n",
    "# 1. Changing Tuple (Converting tuple to list and list to tuple)\n"
   ]
  },
  {
   "cell_type": "code",
   "execution_count": 49,
   "id": "9cfa452b",
   "metadata": {},
   "outputs": [
    {
     "name": "stdout",
     "output_type": "stream",
     "text": [
      "('apple', 'cherry', 'mango', 'kiwi')\n",
      "Tesla\n",
      "['Toyota', 'Ford', 'Thar']\n",
      "BMW\n"
     ]
    }
   ],
   "source": [
    "# Packing a tuple =>Assigning a value to tuple is calling tuple packing.\n",
    "t=(\"apple\", \"cherry\", \"mango\", \"kiwi\")\n",
    "print(t)\n",
    "# Unpackibg a tuple => Extracting a vlue back into variables from tuple is called unpacking tuple.\n",
    "cars = (\"Tesla\", \"Toyota\",\"Ford\",\"Thar\", \"BMW\")\n",
    "(ev, *offroad, luxury) = cars\n",
    "print(ev)\n",
    "print(offroad)\n",
    "print(luxury)\n"
   ]
  },
  {
   "cell_type": "code",
   "execution_count": 55,
   "id": "2f051f9b",
   "metadata": {},
   "outputs": [
    {
     "name": "stdout",
     "output_type": "stream",
     "text": [
      "Tesla\n",
      "Toyota\n",
      "Ford\n",
      "Thar\n",
      "BMW\n"
     ]
    }
   ],
   "source": [
    "#Looping through tuple\n",
    "#Using for in loop\n",
    "# cars = (\"Tesla\", \"Toyota\",\"Ford\",\"Thar\", \"BMW\")\n",
    "# for x in cars:\n",
    "#     print(x)\n",
    "    \n",
    "#Looping through index number\n",
    "cars = (\"Tesla\", \"Toyota\",\"Ford\",\"Thar\", \"BMW\")\n",
    "for x in range(len(cars)):\n",
    "    print(cars[x])"
   ]
  },
  {
   "cell_type": "code",
   "execution_count": 58,
   "id": "fd56a7c8",
   "metadata": {},
   "outputs": [
    {
     "name": "stdout",
     "output_type": "stream",
     "text": [
      "('apple', 'banana', 'cherry', 2, 4, 6, 8)\n",
      "('apple', 'banana', 'cherry', 'apple', 'banana', 'cherry')\n",
      "(2, 4, 6, 8, 2, 4, 6, 8)\n"
     ]
    }
   ],
   "source": [
    "#Join Tuples\n",
    "t1 = (\"apple\", \"banana\", \"cherry\")\n",
    "t2 = (2, 4,6,8)\n",
    "thistuple=t1+t2\n",
    "print(thistuple)\n",
    "t3 = t1*2\n",
    "print(t3)\n",
    "t4 = t2*2\n",
    "print(t4)\n"
   ]
  },
  {
   "cell_type": "code",
   "execution_count": null,
   "id": "d0b14b23",
   "metadata": {},
   "outputs": [],
   "source": []
  }
 ],
 "metadata": {
  "kernelspec": {
   "display_name": "Python 3 (ipykernel)",
   "language": "python",
   "name": "python3"
  },
  "language_info": {
   "codemirror_mode": {
    "name": "ipython",
    "version": 3
   },
   "file_extension": ".py",
   "mimetype": "text/x-python",
   "name": "python",
   "nbconvert_exporter": "python",
   "pygments_lexer": "ipython3",
   "version": "3.11.5"
  }
 },
 "nbformat": 4,
 "nbformat_minor": 5
}
