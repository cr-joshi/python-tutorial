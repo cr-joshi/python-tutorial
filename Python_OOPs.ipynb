{
 "cells": [
  {
   "cell_type": "code",
   "execution_count": 1,
   "id": "896e6de8",
   "metadata": {},
   "outputs": [
    {
     "name": "stdout",
     "output_type": "stream",
     "text": [
      "John\n",
      "30\n"
     ]
    }
   ],
   "source": [
    "class Person:\n",
    "    def __init__(self, name, age):\n",
    "        self.name=name\n",
    "        self.age = age\n",
    "        \n",
    "p1 = Person(\"John\", 30)\n",
    "print(p1.name)\n",
    "print(p1.age)"
   ]
  },
  {
   "cell_type": "code",
   "execution_count": 2,
   "id": "f9827182",
   "metadata": {},
   "outputs": [
    {
     "name": "stdout",
     "output_type": "stream",
     "text": [
      "BMW\n",
      "Black\n",
      "2015\n"
     ]
    }
   ],
   "source": [
    "class Car:\n",
    "    def __init__(self, model, color, year):\n",
    "        self.model=model\n",
    "        self.color=color\n",
    "        self.year=year\n",
    "\n",
    "car1 = Car(\"BMW\", \"Black\", 2015)\n",
    "\n",
    "print(car1.model)\n",
    "print(car1.color)\n",
    "print(car1.year)"
   ]
  },
  {
   "cell_type": "code",
   "execution_count": 6,
   "id": "878a8b36",
   "metadata": {},
   "outputs": [
    {
     "name": "stdout",
     "output_type": "stream",
     "text": [
      "Jack 20\n"
     ]
    }
   ],
   "source": [
    "class Student:\n",
    "    def __init__(self, name, age):\n",
    "        self.name=name\n",
    "        self.age=age\n",
    "\n",
    "#     def __str__(self):\n",
    "#         return f\"{self.name}({self.age})\"\n",
    "\n",
    "    def myfunc(self):\n",
    "        #print(\"Student name is \", self.name)\n",
    "        print(self.name, self.age)\n",
    "s1=Student(\"Jack\", 20)\n",
    "s1.myfunc()"
   ]
  },
  {
   "cell_type": "code",
   "execution_count": 4,
   "id": "bcb1db54",
   "metadata": {},
   "outputs": [
    {
     "name": "stdout",
     "output_type": "stream",
     "text": [
      "Dog\n",
      "Mammal\n",
      "Snake\n",
      "Reptiles\n",
      "Dog lies in  Mammal\n",
      "Snake lies in  Reptiles\n"
     ]
    }
   ],
   "source": [
    "class Animal:\n",
    "    def __init__(self, name, species):\n",
    "        self.name = name\n",
    "        self.species = species\n",
    "     \n",
    "    def display(self):\n",
    "        print(self.name, \"lies in \", self.species)\n",
    "a1 = Animal(\"Dog\", \"Mammal\")\n",
    "a2 = Animal(\"Snake\", \"Reptiles\")\n",
    "\n",
    "print(a1.name)\n",
    "print(a1.species)\n",
    "print(a2.name)\n",
    "print(a2.species)\n",
    "a1.display()\n",
    "a2.display()"
   ]
  },
  {
   "cell_type": "code",
   "execution_count": 14,
   "id": "cd7ad9bf",
   "metadata": {},
   "outputs": [
    {
     "name": "stdout",
     "output_type": "stream",
     "text": [
      "Welcome John Doe in the machine learning 2023 batch.\n"
     ]
    }
   ],
   "source": [
    "#Inheritance in python\n",
    "class Person:\n",
    "    def __init__(self, fname, lname):\n",
    "        self.fname=fname\n",
    "        self.lname=lname\n",
    "        \n",
    "class Student(Person):\n",
    "    def __init__(self, fname, lname, year):\n",
    "        super().__init__(fname, lname)\n",
    "        self.year = year\n",
    "        \n",
    "    def welcome(self):\n",
    "        print(\"Welcome\",  self.fname, self.lname, \"in the machine learning\", self.year, \"batch.\")\n",
    "        \n",
    "x=Student(\"John\", \"Doe\", 2023)\n",
    "x.welcome()\n",
    "        "
   ]
  },
  {
   "cell_type": "code",
   "execution_count": null,
   "id": "669c005b",
   "metadata": {},
   "outputs": [],
   "source": []
  },
  {
   "cell_type": "code",
   "execution_count": null,
   "id": "8585c3c5",
   "metadata": {},
   "outputs": [],
   "source": []
  }
 ],
 "metadata": {
  "kernelspec": {
   "display_name": "Python 3 (ipykernel)",
   "language": "python",
   "name": "python3"
  },
  "language_info": {
   "codemirror_mode": {
    "name": "ipython",
    "version": 3
   },
   "file_extension": ".py",
   "mimetype": "text/x-python",
   "name": "python",
   "nbconvert_exporter": "python",
   "pygments_lexer": "ipython3",
   "version": "3.11.5"
  }
 },
 "nbformat": 4,
 "nbformat_minor": 5
}
