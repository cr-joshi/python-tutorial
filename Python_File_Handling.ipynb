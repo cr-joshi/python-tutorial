{
 "cells": [
  {
   "cell_type": "code",
   "execution_count": 1,
   "id": "b868271c",
   "metadata": {},
   "outputs": [],
   "source": [
    "#Create a new file\n",
    "f = open(\"demo1.txt\", \"x\")"
   ]
  },
  {
   "cell_type": "code",
   "execution_count": 3,
   "id": "0dc10921",
   "metadata": {},
   "outputs": [],
   "source": [
    "#Write to the file\n",
    "f = open(\"demo1.txt\", \"w\")\n",
    "f.write(\"Hello World!\")\n",
    "f.close()"
   ]
  },
  {
   "cell_type": "code",
   "execution_count": 6,
   "id": "56cb114b",
   "metadata": {},
   "outputs": [],
   "source": [
    "f=open(\"demo1.txt\", \"a\")\n",
    "f.write(\"\\nGood Morning!\")\n",
    "f.close()"
   ]
  },
  {
   "cell_type": "code",
   "execution_count": 7,
   "id": "47b122fc",
   "metadata": {},
   "outputs": [
    {
     "name": "stdout",
     "output_type": "stream",
     "text": [
      "Hello World!\n",
      " Good Morning!\n",
      "Good Morning!\n"
     ]
    }
   ],
   "source": [
    "f=open(\"demo1.txt\", \"r\")\n",
    "print(f.read())"
   ]
  },
  {
   "cell_type": "code",
   "execution_count": 20,
   "id": "96f18ddf",
   "metadata": {},
   "outputs": [],
   "source": [
    "#Creating a single directory using os.mkdir() method\n",
    "import os\n",
    "path = \"./demofolder\"\n",
    "os.mkdir(path)"
   ]
  },
  {
   "cell_type": "code",
   "execution_count": 19,
   "id": "fa7f3983",
   "metadata": {},
   "outputs": [],
   "source": [
    "#Deleting a folder\n",
    "# import os\n",
    "# os.rmdir(\"demofolder\")"
   ]
  },
  {
   "cell_type": "code",
   "execution_count": 28,
   "id": "03d677fd",
   "metadata": {},
   "outputs": [
    {
     "name": "stdout",
     "output_type": "stream",
     "text": [
      "The folder ./demofolder already exist!\n"
     ]
    }
   ],
   "source": [
    "#Handle exception when using the os.mkdir() in python\n",
    "# 1. Hanling using if/else\n",
    "import os\n",
    "path = \"./demofolder\"\n",
    "#Check if folder is exist or not\n",
    "if not os.path.exists(path):\n",
    "    os.mkdir(path)\n",
    "    print(\"Folder %s is created!\" % path)\n",
    "else:\n",
    "    print(\"The folder %s already exist!\" % path)\n"
   ]
  },
  {
   "cell_type": "code",
   "execution_count": 29,
   "id": "52b24283",
   "metadata": {},
   "outputs": [
    {
     "name": "stdout",
     "output_type": "stream",
     "text": [
      "Folder ./machinelearning is created!\n"
     ]
    }
   ],
   "source": [
    "import os\n",
    "path = \"./machinelearning\"\n",
    "#Check if folder exist or not\n",
    "if not os.path.exists(path):\n",
    "    os.mkdir(path)\n",
    "    print(\"Folder %s is created!\" % path)\n",
    "else:\n",
    "    print(\"FOlder %s already exists!\" % path)"
   ]
  },
  {
   "cell_type": "code",
   "execution_count": 41,
   "id": "77490588",
   "metadata": {},
   "outputs": [
    {
     "name": "stdout",
     "output_type": "stream",
     "text": [
      "Folder ./machinelearning already exists!\n"
     ]
    }
   ],
   "source": [
    "#Exception handling using try/except\n",
    "import os\n",
    "path = \"./machinelearning\"\n",
    "try:\n",
    "    os.mkdir(path)\n",
    "    print(\"Folder %s is created!\" % path)\n",
    "except FileExistsError:\n",
    "    print(\"Folder %s already exists!\" % path)"
   ]
  },
  {
   "cell_type": "code",
   "execution_count": 43,
   "id": "abf697ac",
   "metadata": {},
   "outputs": [
    {
     "name": "stdout",
     "output_type": "stream",
     "text": [
      "Folder ./,machinelearning does nt exist!\n"
     ]
    }
   ],
   "source": [
    "#Deleting folder\n",
    "import os\n",
    "path = \"./,machinelearning\"\n",
    "\n",
    "if os.path.exists(path):\n",
    "    os.rmdir(path)\n",
    "    print(\"Folder %s deleted!\" % path)\n",
    "else:\n",
    "    print(\"Folder %s does not exist!\" % path)"
   ]
  },
  {
   "cell_type": "code",
   "execution_count": 45,
   "id": "27fecd67",
   "metadata": {},
   "outputs": [
    {
     "name": "stdout",
     "output_type": "stream",
     "text": [
      "Folder ./,.machinelearning deleted!\n"
     ]
    }
   ],
   "source": [
    "import os\n",
    "path = \"./,.machinelearning\"\n",
    "\n",
    "if os.path.exists(path):\n",
    "    os.rmdir(path)\n",
    "    print(\"Folder %s deleted!\" % path)\n",
    "else:\n",
    "    print(\"Folder %s does not exist!\" % path)"
   ]
  },
  {
   "cell_type": "code",
   "execution_count": 49,
   "id": "487c74e1",
   "metadata": {},
   "outputs": [],
   "source": [
    "#Create directiory with sub directories using os.makedirs()\n",
    "import os\n",
    "path = \"./folder1/folder2/demo\"\n",
    "os.makedirs(path)"
   ]
  },
  {
   "cell_type": "code",
   "execution_count": 50,
   "id": "2c12fbef",
   "metadata": {},
   "outputs": [],
   "source": [
    "#Write in the file\n",
    "f=open(\"dem02.txt\", \"w\")\n",
    "f.writelines(\"\"\"readlines() is used to read all the lines at a single go and then return them as each line a string element in \n",
    "             a list. This function can be used for small files, as it reads the whole file content to the memory, then split \n",
    "             it into separate lines. We can iterate over the list and strip the newline ‘\\n’ character \n",
    "             using strip() function.\"\"\")\n",
    "f.close()"
   ]
  },
  {
   "cell_type": "code",
   "execution_count": 62,
   "id": "0a8306c7",
   "metadata": {},
   "outputs": [],
   "source": [
    "import os\n",
    "os.remove(\"dem02.txt\")"
   ]
  },
  {
   "cell_type": "code",
   "execution_count": null,
   "id": "ccfe850f",
   "metadata": {},
   "outputs": [],
   "source": []
  }
 ],
 "metadata": {
  "kernelspec": {
   "display_name": "Python 3 (ipykernel)",
   "language": "python",
   "name": "python3"
  },
  "language_info": {
   "codemirror_mode": {
    "name": "ipython",
    "version": 3
   },
   "file_extension": ".py",
   "mimetype": "text/x-python",
   "name": "python",
   "nbconvert_exporter": "python",
   "pygments_lexer": "ipython3",
   "version": "3.11.5"
  }
 },
 "nbformat": 4,
 "nbformat_minor": 5
}
