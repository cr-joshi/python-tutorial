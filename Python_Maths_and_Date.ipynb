{
 "cells": [
  {
   "cell_type": "code",
   "execution_count": 2,
   "id": "b2540a07",
   "metadata": {},
   "outputs": [
    {
     "name": "stdout",
     "output_type": "stream",
     "text": [
      "2023-11-09 05:02:43.004754\n"
     ]
    }
   ],
   "source": [
    "#Python Date and Time\n",
    "#Display current date\n",
    "import datetime\n",
    "x=datetime.datetime.now()\n",
    "print(x)"
   ]
  },
  {
   "cell_type": "code",
   "execution_count": 3,
   "id": "8ec3199d",
   "metadata": {},
   "outputs": [
    {
     "name": "stdout",
     "output_type": "stream",
     "text": [
      "2023\n"
     ]
    }
   ],
   "source": [
    "import datetime\n",
    "x=datetime.datetime.now()\n",
    "print(x.year)"
   ]
  },
  {
   "cell_type": "code",
   "execution_count": 5,
   "id": "9ccb5d01",
   "metadata": {},
   "outputs": [
    {
     "name": "stdout",
     "output_type": "stream",
     "text": [
      "11\n"
     ]
    }
   ],
   "source": [
    "import datetime\n",
    "x=datetime.datetime.now()\n",
    "print(x.month)"
   ]
  },
  {
   "cell_type": "code",
   "execution_count": 7,
   "id": "8638197e",
   "metadata": {},
   "outputs": [
    {
     "name": "stdout",
     "output_type": "stream",
     "text": [
      "9\n"
     ]
    }
   ],
   "source": [
    "import datetime\n",
    "x=datetime.datetime.now()\n",
    "print(x.day)"
   ]
  },
  {
   "cell_type": "code",
   "execution_count": 11,
   "id": "1371b3b8",
   "metadata": {},
   "outputs": [
    {
     "name": "stdout",
     "output_type": "stream",
     "text": [
      "2022-11-09 00:00:00\n"
     ]
    }
   ],
   "source": [
    "#Creating date objects\n",
    "import datetime\n",
    "x=datetime.datetime(2022, 11, 9)\n",
    "print(x)\n"
   ]
  },
  {
   "cell_type": "code",
   "execution_count": 26,
   "id": "2e4401ac",
   "metadata": {},
   "outputs": [
    {
     "name": "stdout",
     "output_type": "stream",
     "text": [
      "11\n"
     ]
    }
   ],
   "source": [
    "#Formatting dates objects\n",
    "import datetime\n",
    "x=datetime.datetime(1993, 11, 26)\n",
    "print(x.strftime(\"%m\"))"
   ]
  },
  {
   "cell_type": "code",
   "execution_count": 29,
   "id": "f3ee9fa6",
   "metadata": {},
   "outputs": [
    {
     "name": "stdout",
     "output_type": "stream",
     "text": [
      "2\n",
      "10\n",
      "5.75\n"
     ]
    }
   ],
   "source": [
    "#Python math function\n",
    "x=(2, 6, 4, 7, 10)\n",
    "print(min(x))\n",
    "print(max(x))\n",
    "y=-5.75\n",
    "print(abs(y))"
   ]
  },
  {
   "cell_type": "code",
   "execution_count": 30,
   "id": "00b34479",
   "metadata": {},
   "outputs": [
    {
     "name": "stdout",
     "output_type": "stream",
     "text": [
      "32\n"
     ]
    }
   ],
   "source": [
    "#Power method\n",
    "print(pow(2, 5))"
   ]
  },
  {
   "cell_type": "code",
   "execution_count": 34,
   "id": "52fb002a",
   "metadata": {},
   "outputs": [
    {
     "name": "stdout",
     "output_type": "stream",
     "text": [
      "3\n",
      "2\n",
      "8.0\n"
     ]
    }
   ],
   "source": [
    "import math\n",
    "x=2.5\n",
    "print(math.ceil(x))\n",
    "print(math.floor(x))\n",
    "print(math.sqrt(64))"
   ]
  },
  {
   "cell_type": "code",
   "execution_count": null,
   "id": "c35ef16c",
   "metadata": {},
   "outputs": [],
   "source": []
  }
 ],
 "metadata": {
  "kernelspec": {
   "display_name": "Python 3 (ipykernel)",
   "language": "python",
   "name": "python3"
  },
  "language_info": {
   "codemirror_mode": {
    "name": "ipython",
    "version": 3
   },
   "file_extension": ".py",
   "mimetype": "text/x-python",
   "name": "python",
   "nbconvert_exporter": "python",
   "pygments_lexer": "ipython3",
   "version": "3.11.5"
  }
 },
 "nbformat": 4,
 "nbformat_minor": 5
}
