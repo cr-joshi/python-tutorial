{
 "cells": [
  {
   "cell_type": "code",
   "execution_count": 6,
   "id": "147590a7",
   "metadata": {},
   "outputs": [
    {
     "name": "stdout",
     "output_type": "stream",
     "text": [
      "{'name': 'John', 'age': 34, 'address': 'Ktm'}\n",
      "3\n",
      "<class 'dict'>\n",
      "John\n"
     ]
    }
   ],
   "source": [
    "#Python dictionaries are used to store values in key:value pair.\n",
    "#Dictionary items are Ordered, Changeable and does not allow duplicate values.\n",
    "#Creating dictionary\n",
    "user = {\n",
    "    \"name\": \"John\",\n",
    "    \"age\" : 34,\n",
    "    \"address\": \"Ktm\"\n",
    "}\n",
    "print(user)\n",
    "print(len(user))\n",
    "print(type(user))\n",
    "print(user[\"name\"])"
   ]
  },
  {
   "cell_type": "code",
   "execution_count": 23,
   "id": "bf08170c",
   "metadata": {},
   "outputs": [
    {
     "name": "stdout",
     "output_type": "stream",
     "text": [
      "{'name': 'tesla', 'model': 'EV', 'year': 2014, 'color': 'black'}\n",
      "tesla\n",
      "EV\n",
      "2014\n",
      "black\n",
      "EV\n",
      "dict_keys(['name', 'model', 'year', 'color'])\n",
      "{'name': 'tesla', 'model': 'EV', 'year': 2014, 'color': 'black', 'speed': 120}\n",
      "dict_values(['tesla', 'EV', 2014, 'black', 120])\n",
      "dict_items([('name', 'tesla'), ('model', 'EV'), ('year', 2014), ('color', 'black'), ('speed', 120)])\n",
      "True\n"
     ]
    }
   ],
   "source": [
    "#Access Dictionary Items\n",
    "car = {\n",
    "    \"name\" : \"tesla\",\n",
    "    \"model\" : \"EV\",\n",
    "    \"year\" : 2014,\n",
    "    \"color\" : \"black\"\n",
    "}\n",
    "print(car)\n",
    "print(car[\"name\"])\n",
    "print(car[\"model\"])\n",
    "print(car[\"year\"])\n",
    "print(car[\"color\"])\n",
    "#get() method to acess the item\n",
    "print(car.get(\"model\"))\n",
    "\n",
    "#Get Keys using keys()\n",
    "print(car.keys())\n",
    "car[\"speed\"]= 120\n",
    "print(car)\n",
    "\n",
    "#values() methods will return all the values\n",
    "print(car.values())\n",
    "\n",
    "#items() method will return each item in a dictionary as a tuple.\n",
    "print((car.items()))\n",
    "\n",
    "#Check if key exist\n",
    "print(\"model\" in car)"
   ]
  },
  {
   "cell_type": "code",
   "execution_count": 38,
   "id": "f1b6c8ec",
   "metadata": {},
   "outputs": [
    {
     "name": "stdout",
     "output_type": "stream",
     "text": [
      "{'name': 'Smith', 'age': 20, 'address': 'KTM'}\n",
      "Smith\n",
      "dict_keys(['name', 'age', 'address'])\n",
      "dict_values(['Smith', 20, 'KTM'])\n",
      "dict_items([('name', 'Smith'), ('age', 20), ('address', 'KTM')])\n",
      "{'name': 'Smith', 'age': 25, 'address': 'KTM'}\n",
      "{'name': 'Smith', 'age': 25, 'address': 'Kathmandu'}\n"
     ]
    }
   ],
   "source": [
    "#Change dictionar items\n",
    "user ={\n",
    "    \"name\" : \"Smith\",\n",
    "    \"age\" : 20,\n",
    "    \"address\": \"KTM\"\n",
    "}\n",
    "print(user)\n",
    "print(user.get(\"name\"))\n",
    "print(user.keys())\n",
    "print(user.values())\n",
    "print(user.items())\n",
    "user[\"age\"]=25\n",
    "print(user)\n",
    "user.update({\"address\": \"Kathmandu\"})\n",
    "print(user)"
   ]
  },
  {
   "cell_type": "code",
   "execution_count": 42,
   "id": "0109db8f",
   "metadata": {},
   "outputs": [
    {
     "name": "stdout",
     "output_type": "stream",
     "text": [
      "{'brand': 'BMW', 'model': 'z series'}\n",
      "{'brand': 'BMW', 'model': 'z series', 'year': 2010}\n",
      "{'brand': 'BMW', 'model': 'z series', 'year': 2010, 'color': 'black', 'price': '$100K'}\n"
     ]
    }
   ],
   "source": [
    "#Add dictionary items\n",
    "car = {\n",
    "    \"brand\": \"BMW\",\n",
    "    \"model\": \"z series\",\n",
    "}\n",
    "print(car)\n",
    "car[\"year\"]=2010\n",
    "print(car)\n",
    "car.update({\"color\": \"black\", \"price\": \"$100K\"})\n",
    "print(car)"
   ]
  },
  {
   "cell_type": "code",
   "execution_count": 55,
   "id": "9af46e04",
   "metadata": {},
   "outputs": [
    {
     "name": "stdout",
     "output_type": "stream",
     "text": [
      "{'name': 'tesla', 'model': 'EV', 'year': 2014, 'color': 'black'}\n",
      "EV\n",
      "{'name': 'tesla', 'year': 2014, 'color': 'black'}\n",
      "('color', 'black')\n",
      "{'name': 'tesla', 'year': 2014}\n",
      "None\n",
      "{}\n"
     ]
    }
   ],
   "source": [
    "#Remove items in python dictionary\n",
    "car = {\n",
    "    \"name\" : \"tesla\",\n",
    "    \"model\" : \"EV\",\n",
    "    \"year\" : 2014,\n",
    "    \"color\" : \"black\"\n",
    "}\n",
    "print(car)\n",
    "print(car.pop(\"model\"))\n",
    "print(car)\n",
    "print(car.popitem())\n",
    "print(car)\n",
    "print(car.clear())\n",
    "print(car)\n",
    "del car"
   ]
  },
  {
   "cell_type": "code",
   "execution_count": 63,
   "id": "482d5d77",
   "metadata": {},
   "outputs": [
    {
     "name": "stdout",
     "output_type": "stream",
     "text": [
      "name\n",
      "model\n",
      "year\n",
      "color\n",
      "\n",
      "\n",
      "tesla\n",
      "EV\n",
      "2014\n",
      "black\n",
      "\n",
      "\n",
      "name\n",
      "model\n",
      "year\n",
      "color\n",
      "\n",
      "\n",
      "tesla\n",
      "EV\n",
      "2014\n",
      "black\n",
      "\n",
      "\n",
      "name tesla\n",
      "model EV\n",
      "year 2014\n",
      "color black\n"
     ]
    }
   ],
   "source": [
    "#Looping on dictonaries\n",
    "car = {\n",
    "    \"name\" : \"tesla\",\n",
    "    \"model\" : \"EV\",\n",
    "    \"year\" : 2014,\n",
    "    \"color\" : \"black\"\n",
    "}\n",
    "for i in car: #Looping through key\n",
    "    print(i)\n",
    "print(\"\\n\")    \n",
    "for x in car:#Looping through values\n",
    "    print(car[x])\n",
    "    \n",
    "print(\"\\n\")\n",
    "for y in car.keys():\n",
    "    print(y)\n",
    "\n",
    "print(\"\\n\")\n",
    "for z in car.values():\n",
    "    print(z)\n",
    "    \n",
    "print(\"\\n\")\n",
    "for a, b in car.items():\n",
    "    print(a, b)"
   ]
  },
  {
   "cell_type": "code",
   "execution_count": 65,
   "id": "8da0e6b3",
   "metadata": {},
   "outputs": [
    {
     "name": "stdout",
     "output_type": "stream",
     "text": [
      "{'name': 'tesla', 'model': 'EV', 'year': 2014, 'color': 'black'}\n",
      "{'name': 'tesla', 'model': 'EV', 'year': 2014, 'color': 'black'}\n"
     ]
    }
   ],
   "source": [
    "#Copy dictonaries (copy() methosd and dict() method)\n",
    "car = {\n",
    "    \"name\" : \"tesla\",\n",
    "    \"model\" : \"EV\",\n",
    "    \"year\" : 2014,\n",
    "    \"color\" : \"black\"\n",
    "}\n",
    "mydict = car.copy() #Using copy() method\n",
    "print(mydict)\n",
    "\n",
    "mydict1 = dict(car) #Using dict() method\n",
    "print(mydict1)\n"
   ]
  },
  {
   "cell_type": "code",
   "execution_count": 68,
   "id": "0b1ac49a",
   "metadata": {},
   "outputs": [
    {
     "name": "stdout",
     "output_type": "stream",
     "text": [
      "iphone 15\n"
     ]
    }
   ],
   "source": [
    "#Nested dictonaries\n",
    "smartPhone = {\n",
    "    \"apple\":{\n",
    "        \"brand\":\"apple\",\n",
    "        \"model\":\"iphone 15\"\n",
    "    },\n",
    "    \"samsung\":{\n",
    "        \"brand\": \"samsung\",\n",
    "        \"model\": \"s series\"\n",
    "        \n",
    "    },\n",
    "    \"nokia\":{\n",
    "        \"brand\":\"nokia\",\n",
    "        \"model\":\"c series\"\n",
    "    }\n",
    "}\n",
    "\n",
    "print(smartPhone[\"apple\"][\"model\"])"
   ]
  },
  {
   "cell_type": "code",
   "execution_count": null,
   "id": "629e7130",
   "metadata": {},
   "outputs": [],
   "source": []
  }
 ],
 "metadata": {
  "kernelspec": {
   "display_name": "Python 3 (ipykernel)",
   "language": "python",
   "name": "python3"
  },
  "language_info": {
   "codemirror_mode": {
    "name": "ipython",
    "version": 3
   },
   "file_extension": ".py",
   "mimetype": "text/x-python",
   "name": "python",
   "nbconvert_exporter": "python",
   "pygments_lexer": "ipython3",
   "version": "3.11.5"
  }
 },
 "nbformat": 4,
 "nbformat_minor": 5
}
